{
  "cells": [
    {
      "cell_type": "code",
      "execution_count": 4,
      "metadata": {
        "id": "uJ_xPgpsHAvx"
      },
      "outputs": [],
      "source": [
        "# importing necessary packages\n",
        "\n",
        "import os\n",
        "import tensorflow as tf\n",
        "import tensorflow.keras as keras\n",
        "import tensorflow.keras.layers \n",
        "import random\n",
        "import pandas as pd\n",
        "import numpy as np\n",
        "   \n",
        "import statistics\n",
        "import seaborn as sns # For Data Visualization \n",
        "import matplotlib.pyplot as plt # Necessary module for plotting purpose\n",
        "plt.rcParams[\"patch.force_edgecolor\"] = True\n",
        "%matplotlib inline\n",
        "\n",
        "import tensorflow as tf\n",
        "from tensorflow.keras.models import Sequential\n",
        "from tensorflow.keras.layers import Dense, Activation, LeakyReLU, Dropout, BatchNormalization, Flatten, Conv2D, MaxPool2D, GlobalMaxPooling2D\n",
        "from tensorflow.keras import optimizers\n",
        "from tensorflow.keras.utils import to_categorical\n",
        "from tensorflow import keras \n",
        "from tensorflow.keras.wrappers.scikit_learn import KerasClassifier, KerasRegressor\n",
        "from tensorflow.keras.callbacks import EarlyStopping, ModelCheckpoint\n",
        "from tensorflow.keras.optimizers import Adam,SGD,RMSprop,Adagrad\n",
        "\n",
        "# for hyperparameter tuning and KFoldCV\n",
        "# from sklearn.model_selection import train_test_split, RandomizedSearchCV, GridSearchCV, StratifiedKFold\n",
        "# from scipy.stats import randint as sp_randint\n",
        "# from scipy.stats import uniform as sp_uniform\n",
        "\n",
        "# getting methods for confusion matrix, F1 score, Accuracy Score etc.\n",
        "from sklearn.metrics import confusion_matrix, f1_score,accuracy_score, classification_report, make_scorer,recall_score\n",
        "from sklearn import metrics\n",
        "from sklearn.metrics import mean_absolute_error\n",
        "\n",
        "import warnings\n",
        "warnings.simplefilter('ignore')"
      ]
    },
    {
      "cell_type": "code",
      "execution_count": 5,
      "metadata": {
        "colab": {
          "base_uri": "https://localhost:8080/"
        },
        "id": "WcbBiqwOFGkZ",
        "outputId": "8ca937b7-cb22-4bf7-d4f8-c9dd8b1fdb73"
      },
      "outputs": [
        {
          "output_type": "stream",
          "name": "stderr",
          "text": [
            "[nltk_data] Downloading package wordnet to /root/nltk_data...\n",
            "[nltk_data]   Package wordnet is already up-to-date!\n",
            "[nltk_data] Downloading package stopwords to /root/nltk_data...\n",
            "[nltk_data]   Package stopwords is already up-to-date!\n",
            "[nltk_data] Downloading package punkt to /root/nltk_data...\n",
            "[nltk_data]   Package punkt is already up-to-date!\n",
            "[nltk_data] Downloading package words to /root/nltk_data...\n",
            "[nltk_data]   Package words is already up-to-date!\n"
          ]
        }
      ],
      "source": [
        "import json\n",
        "import nltk\n",
        "import string\n",
        "import re # regular expression\n",
        "from sklearn.preprocessing import MultiLabelBinarizer\n",
        "from sklearn.feature_extraction.text import CountVectorizer, TfidfTransformer, TfidfVectorizer\n",
        "\n",
        "import sklearn.metrics\n",
        "\n",
        "# !pip install git+http://github.com/scikit-learn/scikit-learn.git  # for multilabel_confusion_matrix\n",
        "from sklearn.metrics import multilabel_confusion_matrix as multilabel_confusion_matrix\n",
        "\n",
        "nltk.download('wordnet')\n",
        "nltk.download('stopwords')\n",
        "nltk.download('punkt')\n",
        "nltk.download('words')\n",
        "from nltk.stem.wordnet import WordNetLemmatizer\n",
        "lmtzr = WordNetLemmatizer()\n",
        "\n",
        "# Remove stopwords\n",
        "from nltk.corpus import stopwords\n",
        "stopwords = set(stopwords.words('english'))\n",
        "\n",
        "# for stemming of the sentence in part 1 of the project\n",
        "from nltk.stem.snowball import SnowballStemmer"
      ]
    },
    {
      "cell_type": "code",
      "execution_count": 6,
      "metadata": {
        "colab": {
          "base_uri": "https://localhost:8080/"
        },
        "id": "mb5eDHsrLt1Y",
        "outputId": "9fece449-d064-4488-fafb-0435afd4ab70"
      },
      "outputs": [
        {
          "output_type": "stream",
          "name": "stdout",
          "text": [
            "Drive already mounted at /content/drive; to attempt to forcibly remount, call drive.mount(\"/content/drive\", force_remount=True).\n"
          ]
        }
      ],
      "source": [
        "from google.colab import drive\n",
        "drive.mount('/content/drive')"
      ]
    },
    {
      "cell_type": "code",
      "execution_count": 7,
      "metadata": {
        "id": "yPUVrp02L4j6"
      },
      "outputs": [],
      "source": [
        "os.chdir('/content/drive/My Drive/PyData/NLP_1')"
      ]
    },
    {
      "cell_type": "code",
      "execution_count": 8,
      "metadata": {
        "id": "S2yyMWJLK9K8"
      },
      "outputs": [],
      "source": [
        "#load the full set of the data\n",
        "part1_data = pd.read_csv(\"blogtext.csv\")"
      ]
    },
    {
      "cell_type": "code",
      "execution_count": 9,
      "metadata": {
        "colab": {
          "base_uri": "https://localhost:8080/"
        },
        "id": "ueNlbi-BLFN-",
        "outputId": "34197e06-a0c5-4dd0-fe56-d900065ba302"
      },
      "outputs": [
        {
          "output_type": "stream",
          "name": "stdout",
          "text": [
            "The shape of the dataframe is (681284, 7)\n"
          ]
        }
      ],
      "source": [
        "# check the shape of the data frame by using the shape attribute of the data frame\n",
        "print('The shape of the dataframe is',part1_data.shape)"
      ]
    },
    {
      "cell_type": "code",
      "execution_count": 10,
      "metadata": {
        "colab": {
          "base_uri": "https://localhost:8080/",
          "height": 363
        },
        "id": "EUmGD5VTSO6l",
        "outputId": "95baefad-4f3e-462f-cbcd-5fd39063245e"
      },
      "outputs": [
        {
          "output_type": "execute_result",
          "data": {
            "text/plain": [
              "             id  gender  age       topic       sign             date  \\\n",
              "644707  2755041  female   23      indUnk   Aquarius     06,July,2004   \n",
              "584902  3131115  female   15     Student     Pisces     13,June,2004   \n",
              "649213  2864160    male   41         Law  Capricorn     15,June,2004   \n",
              "168001  1633534    male   39        Arts     Pisces     22,June,2004   \n",
              "428865  2895671    male   24      indUnk      Aries     14,July,2004   \n",
              "219719   303162  female   38      indUnk      Virgo      30,May,2004   \n",
              "298455  1255453    male   17  Consulting   Aquarius     20,July,2004   \n",
              "530659  3403381  female   33  Publishing     Pisces     06,July,2004   \n",
              "173852     8173    male   42      indUnk  Capricorn   02,August,2004   \n",
              "538914    15365  female   34      indUnk     Cancer  25,October,2002   \n",
              "\n",
              "                                                     text  \n",
              "644707         I ride the train back & forth from CT t...  \n",
              "584902         I did it. I read Ashley's posts..and Am...  \n",
              "649213         Today I was huffing and puffing up a st...  \n",
              "168001              A new Beastie Boys' CD called 'To ...  \n",
              "428865               Problem that is more often faced ...  \n",
              "219719         Oh, people. That couldn't have gone bet...  \n",
              "298455             Since as of recent, I've been on a ...  \n",
              "530659                   I had a lovely three day week...  \n",
              "173852          urlLink Is there a point to a blog?  P...  \n",
              "538914      Sol   Named for the sun, his son, with cur...  "
            ],
            "text/html": [
              "\n",
              "  <div id=\"df-6ab6ea41-2ebd-47bc-85e7-3c833171ef99\">\n",
              "    <div class=\"colab-df-container\">\n",
              "      <div>\n",
              "<style scoped>\n",
              "    .dataframe tbody tr th:only-of-type {\n",
              "        vertical-align: middle;\n",
              "    }\n",
              "\n",
              "    .dataframe tbody tr th {\n",
              "        vertical-align: top;\n",
              "    }\n",
              "\n",
              "    .dataframe thead th {\n",
              "        text-align: right;\n",
              "    }\n",
              "</style>\n",
              "<table border=\"1\" class=\"dataframe\">\n",
              "  <thead>\n",
              "    <tr style=\"text-align: right;\">\n",
              "      <th></th>\n",
              "      <th>id</th>\n",
              "      <th>gender</th>\n",
              "      <th>age</th>\n",
              "      <th>topic</th>\n",
              "      <th>sign</th>\n",
              "      <th>date</th>\n",
              "      <th>text</th>\n",
              "    </tr>\n",
              "  </thead>\n",
              "  <tbody>\n",
              "    <tr>\n",
              "      <th>644707</th>\n",
              "      <td>2755041</td>\n",
              "      <td>female</td>\n",
              "      <td>23</td>\n",
              "      <td>indUnk</td>\n",
              "      <td>Aquarius</td>\n",
              "      <td>06,July,2004</td>\n",
              "      <td>I ride the train back &amp; forth from CT t...</td>\n",
              "    </tr>\n",
              "    <tr>\n",
              "      <th>584902</th>\n",
              "      <td>3131115</td>\n",
              "      <td>female</td>\n",
              "      <td>15</td>\n",
              "      <td>Student</td>\n",
              "      <td>Pisces</td>\n",
              "      <td>13,June,2004</td>\n",
              "      <td>I did it. I read Ashley's posts..and Am...</td>\n",
              "    </tr>\n",
              "    <tr>\n",
              "      <th>649213</th>\n",
              "      <td>2864160</td>\n",
              "      <td>male</td>\n",
              "      <td>41</td>\n",
              "      <td>Law</td>\n",
              "      <td>Capricorn</td>\n",
              "      <td>15,June,2004</td>\n",
              "      <td>Today I was huffing and puffing up a st...</td>\n",
              "    </tr>\n",
              "    <tr>\n",
              "      <th>168001</th>\n",
              "      <td>1633534</td>\n",
              "      <td>male</td>\n",
              "      <td>39</td>\n",
              "      <td>Arts</td>\n",
              "      <td>Pisces</td>\n",
              "      <td>22,June,2004</td>\n",
              "      <td>A new Beastie Boys' CD called 'To ...</td>\n",
              "    </tr>\n",
              "    <tr>\n",
              "      <th>428865</th>\n",
              "      <td>2895671</td>\n",
              "      <td>male</td>\n",
              "      <td>24</td>\n",
              "      <td>indUnk</td>\n",
              "      <td>Aries</td>\n",
              "      <td>14,July,2004</td>\n",
              "      <td>Problem that is more often faced ...</td>\n",
              "    </tr>\n",
              "    <tr>\n",
              "      <th>219719</th>\n",
              "      <td>303162</td>\n",
              "      <td>female</td>\n",
              "      <td>38</td>\n",
              "      <td>indUnk</td>\n",
              "      <td>Virgo</td>\n",
              "      <td>30,May,2004</td>\n",
              "      <td>Oh, people. That couldn't have gone bet...</td>\n",
              "    </tr>\n",
              "    <tr>\n",
              "      <th>298455</th>\n",
              "      <td>1255453</td>\n",
              "      <td>male</td>\n",
              "      <td>17</td>\n",
              "      <td>Consulting</td>\n",
              "      <td>Aquarius</td>\n",
              "      <td>20,July,2004</td>\n",
              "      <td>Since as of recent, I've been on a ...</td>\n",
              "    </tr>\n",
              "    <tr>\n",
              "      <th>530659</th>\n",
              "      <td>3403381</td>\n",
              "      <td>female</td>\n",
              "      <td>33</td>\n",
              "      <td>Publishing</td>\n",
              "      <td>Pisces</td>\n",
              "      <td>06,July,2004</td>\n",
              "      <td>I had a lovely three day week...</td>\n",
              "    </tr>\n",
              "    <tr>\n",
              "      <th>173852</th>\n",
              "      <td>8173</td>\n",
              "      <td>male</td>\n",
              "      <td>42</td>\n",
              "      <td>indUnk</td>\n",
              "      <td>Capricorn</td>\n",
              "      <td>02,August,2004</td>\n",
              "      <td>urlLink Is there a point to a blog?  P...</td>\n",
              "    </tr>\n",
              "    <tr>\n",
              "      <th>538914</th>\n",
              "      <td>15365</td>\n",
              "      <td>female</td>\n",
              "      <td>34</td>\n",
              "      <td>indUnk</td>\n",
              "      <td>Cancer</td>\n",
              "      <td>25,October,2002</td>\n",
              "      <td>Sol   Named for the sun, his son, with cur...</td>\n",
              "    </tr>\n",
              "  </tbody>\n",
              "</table>\n",
              "</div>\n",
              "      <button class=\"colab-df-convert\" onclick=\"convertToInteractive('df-6ab6ea41-2ebd-47bc-85e7-3c833171ef99')\"\n",
              "              title=\"Convert this dataframe to an interactive table.\"\n",
              "              style=\"display:none;\">\n",
              "        \n",
              "  <svg xmlns=\"http://www.w3.org/2000/svg\" height=\"24px\"viewBox=\"0 0 24 24\"\n",
              "       width=\"24px\">\n",
              "    <path d=\"M0 0h24v24H0V0z\" fill=\"none\"/>\n",
              "    <path d=\"M18.56 5.44l.94 2.06.94-2.06 2.06-.94-2.06-.94-.94-2.06-.94 2.06-2.06.94zm-11 1L8.5 8.5l.94-2.06 2.06-.94-2.06-.94L8.5 2.5l-.94 2.06-2.06.94zm10 10l.94 2.06.94-2.06 2.06-.94-2.06-.94-.94-2.06-.94 2.06-2.06.94z\"/><path d=\"M17.41 7.96l-1.37-1.37c-.4-.4-.92-.59-1.43-.59-.52 0-1.04.2-1.43.59L10.3 9.45l-7.72 7.72c-.78.78-.78 2.05 0 2.83L4 21.41c.39.39.9.59 1.41.59.51 0 1.02-.2 1.41-.59l7.78-7.78 2.81-2.81c.8-.78.8-2.07 0-2.86zM5.41 20L4 18.59l7.72-7.72 1.47 1.35L5.41 20z\"/>\n",
              "  </svg>\n",
              "      </button>\n",
              "      \n",
              "  <style>\n",
              "    .colab-df-container {\n",
              "      display:flex;\n",
              "      flex-wrap:wrap;\n",
              "      gap: 12px;\n",
              "    }\n",
              "\n",
              "    .colab-df-convert {\n",
              "      background-color: #E8F0FE;\n",
              "      border: none;\n",
              "      border-radius: 50%;\n",
              "      cursor: pointer;\n",
              "      display: none;\n",
              "      fill: #1967D2;\n",
              "      height: 32px;\n",
              "      padding: 0 0 0 0;\n",
              "      width: 32px;\n",
              "    }\n",
              "\n",
              "    .colab-df-convert:hover {\n",
              "      background-color: #E2EBFA;\n",
              "      box-shadow: 0px 1px 2px rgba(60, 64, 67, 0.3), 0px 1px 3px 1px rgba(60, 64, 67, 0.15);\n",
              "      fill: #174EA6;\n",
              "    }\n",
              "\n",
              "    [theme=dark] .colab-df-convert {\n",
              "      background-color: #3B4455;\n",
              "      fill: #D2E3FC;\n",
              "    }\n",
              "\n",
              "    [theme=dark] .colab-df-convert:hover {\n",
              "      background-color: #434B5C;\n",
              "      box-shadow: 0px 1px 3px 1px rgba(0, 0, 0, 0.15);\n",
              "      filter: drop-shadow(0px 1px 2px rgba(0, 0, 0, 0.3));\n",
              "      fill: #FFFFFF;\n",
              "    }\n",
              "  </style>\n",
              "\n",
              "      <script>\n",
              "        const buttonEl =\n",
              "          document.querySelector('#df-6ab6ea41-2ebd-47bc-85e7-3c833171ef99 button.colab-df-convert');\n",
              "        buttonEl.style.display =\n",
              "          google.colab.kernel.accessAllowed ? 'block' : 'none';\n",
              "\n",
              "        async function convertToInteractive(key) {\n",
              "          const element = document.querySelector('#df-6ab6ea41-2ebd-47bc-85e7-3c833171ef99');\n",
              "          const dataTable =\n",
              "            await google.colab.kernel.invokeFunction('convertToInteractive',\n",
              "                                                     [key], {});\n",
              "          if (!dataTable) return;\n",
              "\n",
              "          const docLinkHtml = 'Like what you see? Visit the ' +\n",
              "            '<a target=\"_blank\" href=https://colab.research.google.com/notebooks/data_table.ipynb>data table notebook</a>'\n",
              "            + ' to learn more about interactive tables.';\n",
              "          element.innerHTML = '';\n",
              "          dataTable['output_type'] = 'display_data';\n",
              "          await google.colab.output.renderOutput(dataTable, element);\n",
              "          const docLink = document.createElement('div');\n",
              "          docLink.innerHTML = docLinkHtml;\n",
              "          element.appendChild(docLink);\n",
              "        }\n",
              "      </script>\n",
              "    </div>\n",
              "  </div>\n",
              "  "
            ]
          },
          "metadata": {},
          "execution_count": 10
        }
      ],
      "source": [
        "#check if the data frame is properly loaded using the sample() method\n",
        "part1_data.sample(10)\n"
      ]
    },
    {
      "cell_type": "code",
      "execution_count": 11,
      "metadata": {
        "id": "tOKXY1gKSStv"
      },
      "outputs": [],
      "source": [
        "#dropping duplicates and resetting index\n",
        "\n",
        "part1_data.drop_duplicates(subset=\"text\",inplace=True)\n",
        "part1_data.reset_index(inplace = True,drop=True)"
      ]
    },
    {
      "cell_type": "code",
      "execution_count": 12,
      "metadata": {
        "colab": {
          "base_uri": "https://localhost:8080/"
        },
        "id": "qZOmQgbQSnoE",
        "outputId": "f6eef530-bcaa-4fec-c5c2-5ae24487edcb"
      },
      "outputs": [
        {
          "output_type": "stream",
          "name": "stdout",
          "text": [
            "The shape of the dataframe is (611652, 7)\n"
          ]
        }
      ],
      "source": [
        "#size after removal\n",
        "print('The shape of the dataframe is',part1_data.shape)"
      ]
    },
    {
      "cell_type": "code",
      "execution_count": 13,
      "metadata": {
        "colab": {
          "base_uri": "https://localhost:8080/"
        },
        "id": "AeZ1Fv4jSnqc",
        "outputId": "f6b4728f-031c-48f3-b34d-8fdbeb59c922"
      },
      "outputs": [
        {
          "output_type": "execute_result",
          "data": {
            "text/plain": [
              "id        False\n",
              "gender    False\n",
              "age       False\n",
              "topic     False\n",
              "sign      False\n",
              "date      False\n",
              "text      False\n",
              "dtype: bool"
            ]
          },
          "metadata": {},
          "execution_count": 13
        }
      ],
      "source": [
        "# checking for null values if any\n",
        "part1_data.isna().any()"
      ]
    },
    {
      "cell_type": "code",
      "execution_count": 14,
      "metadata": {
        "id": "18udynMGF7e_"
      },
      "outputs": [],
      "source": [
        "# dropping unnecessary columns 'id' and 'date'\n",
        "part1_data.drop(['id','date'], axis=1, inplace=True)"
      ]
    },
    {
      "cell_type": "code",
      "execution_count": 15,
      "metadata": {
        "colab": {
          "base_uri": "https://localhost:8080/"
        },
        "id": "CMqE8L-ESns3",
        "outputId": "5dd68ae6-6c00-4541-8c10-51f3033bb686"
      },
      "outputs": [
        {
          "output_type": "stream",
          "name": "stdout",
          "text": [
            "<class 'pandas.core.frame.DataFrame'>\n",
            "RangeIndex: 611652 entries, 0 to 611651\n",
            "Data columns (total 5 columns):\n",
            " #   Column  Non-Null Count   Dtype \n",
            "---  ------  --------------   ----- \n",
            " 0   gender  611652 non-null  object\n",
            " 1   age     611652 non-null  int64 \n",
            " 2   topic   611652 non-null  object\n",
            " 3   sign    611652 non-null  object\n",
            " 4   text    611652 non-null  object\n",
            "dtypes: int64(1), object(4)\n",
            "memory usage: 23.3+ MB\n"
          ]
        }
      ],
      "source": [
        "part1_data.info()"
      ]
    },
    {
      "cell_type": "code",
      "execution_count": 16,
      "metadata": {
        "colab": {
          "base_uri": "https://localhost:8080/"
        },
        "id": "61wJ925VGL3N",
        "outputId": "630ba8ed-c12d-4582-f78d-2a1f1871cd2d"
      },
      "outputs": [
        {
          "output_type": "stream",
          "name": "stdout",
          "text": [
            "Unique values in the column gender are 2 \n",
            "\n",
            "Unique values in the column age are 26 \n",
            "\n",
            "Unique values in the column topic are 40 \n",
            "\n",
            "Unique values in the column sign are 12\n"
          ]
        }
      ],
      "source": [
        "#Checking no. of uique values in each column\n",
        "print('Unique values in the column gender are',part1_data['gender'].nunique(),'\\n')\n",
        "print('Unique values in the column age are',part1_data['age'].nunique(),'\\n')\n",
        "print('Unique values in the column topic are',part1_data['topic'].nunique(),'\\n')\n",
        "print('Unique values in the column sign are',part1_data['sign'].nunique())\n"
      ]
    },
    {
      "cell_type": "code",
      "execution_count": 17,
      "metadata": {
        "colab": {
          "base_uri": "https://localhost:8080/",
          "height": 394
        },
        "id": "EWQQMykcGMNk",
        "outputId": "598d90d6-4cd4-4dbb-c172-542c2b0f17fc"
      },
      "outputs": [
        {
          "output_type": "execute_result",
          "data": {
            "text/plain": [
              "        gender            age   topic    sign  \\\n",
              "count   611652  611652.000000  611652  611652   \n",
              "unique       2            NaN      40      12   \n",
              "top     female            NaN  indUnk  Cancer   \n",
              "freq    307352            NaN  230835   60263   \n",
              "mean       NaN      24.160192     NaN     NaN   \n",
              "std        NaN       7.872840     NaN     NaN   \n",
              "min        NaN      13.000000     NaN     NaN   \n",
              "25%        NaN      17.000000     NaN     NaN   \n",
              "50%        NaN      24.000000     NaN     NaN   \n",
              "75%        NaN      27.000000     NaN     NaN   \n",
              "max        NaN      48.000000     NaN     NaN   \n",
              "\n",
              "                                                     text  \n",
              "count                                              611652  \n",
              "unique                                             611652  \n",
              "top                Info has been found (+/- 100 pages,...  \n",
              "freq                                                    1  \n",
              "mean                                                  NaN  \n",
              "std                                                   NaN  \n",
              "min                                                   NaN  \n",
              "25%                                                   NaN  \n",
              "50%                                                   NaN  \n",
              "75%                                                   NaN  \n",
              "max                                                   NaN  "
            ],
            "text/html": [
              "\n",
              "  <div id=\"df-0809d70a-6f51-4997-8c9c-e7c7a793124d\">\n",
              "    <div class=\"colab-df-container\">\n",
              "      <div>\n",
              "<style scoped>\n",
              "    .dataframe tbody tr th:only-of-type {\n",
              "        vertical-align: middle;\n",
              "    }\n",
              "\n",
              "    .dataframe tbody tr th {\n",
              "        vertical-align: top;\n",
              "    }\n",
              "\n",
              "    .dataframe thead th {\n",
              "        text-align: right;\n",
              "    }\n",
              "</style>\n",
              "<table border=\"1\" class=\"dataframe\">\n",
              "  <thead>\n",
              "    <tr style=\"text-align: right;\">\n",
              "      <th></th>\n",
              "      <th>gender</th>\n",
              "      <th>age</th>\n",
              "      <th>topic</th>\n",
              "      <th>sign</th>\n",
              "      <th>text</th>\n",
              "    </tr>\n",
              "  </thead>\n",
              "  <tbody>\n",
              "    <tr>\n",
              "      <th>count</th>\n",
              "      <td>611652</td>\n",
              "      <td>611652.000000</td>\n",
              "      <td>611652</td>\n",
              "      <td>611652</td>\n",
              "      <td>611652</td>\n",
              "    </tr>\n",
              "    <tr>\n",
              "      <th>unique</th>\n",
              "      <td>2</td>\n",
              "      <td>NaN</td>\n",
              "      <td>40</td>\n",
              "      <td>12</td>\n",
              "      <td>611652</td>\n",
              "    </tr>\n",
              "    <tr>\n",
              "      <th>top</th>\n",
              "      <td>female</td>\n",
              "      <td>NaN</td>\n",
              "      <td>indUnk</td>\n",
              "      <td>Cancer</td>\n",
              "      <td>Info has been found (+/- 100 pages,...</td>\n",
              "    </tr>\n",
              "    <tr>\n",
              "      <th>freq</th>\n",
              "      <td>307352</td>\n",
              "      <td>NaN</td>\n",
              "      <td>230835</td>\n",
              "      <td>60263</td>\n",
              "      <td>1</td>\n",
              "    </tr>\n",
              "    <tr>\n",
              "      <th>mean</th>\n",
              "      <td>NaN</td>\n",
              "      <td>24.160192</td>\n",
              "      <td>NaN</td>\n",
              "      <td>NaN</td>\n",
              "      <td>NaN</td>\n",
              "    </tr>\n",
              "    <tr>\n",
              "      <th>std</th>\n",
              "      <td>NaN</td>\n",
              "      <td>7.872840</td>\n",
              "      <td>NaN</td>\n",
              "      <td>NaN</td>\n",
              "      <td>NaN</td>\n",
              "    </tr>\n",
              "    <tr>\n",
              "      <th>min</th>\n",
              "      <td>NaN</td>\n",
              "      <td>13.000000</td>\n",
              "      <td>NaN</td>\n",
              "      <td>NaN</td>\n",
              "      <td>NaN</td>\n",
              "    </tr>\n",
              "    <tr>\n",
              "      <th>25%</th>\n",
              "      <td>NaN</td>\n",
              "      <td>17.000000</td>\n",
              "      <td>NaN</td>\n",
              "      <td>NaN</td>\n",
              "      <td>NaN</td>\n",
              "    </tr>\n",
              "    <tr>\n",
              "      <th>50%</th>\n",
              "      <td>NaN</td>\n",
              "      <td>24.000000</td>\n",
              "      <td>NaN</td>\n",
              "      <td>NaN</td>\n",
              "      <td>NaN</td>\n",
              "    </tr>\n",
              "    <tr>\n",
              "      <th>75%</th>\n",
              "      <td>NaN</td>\n",
              "      <td>27.000000</td>\n",
              "      <td>NaN</td>\n",
              "      <td>NaN</td>\n",
              "      <td>NaN</td>\n",
              "    </tr>\n",
              "    <tr>\n",
              "      <th>max</th>\n",
              "      <td>NaN</td>\n",
              "      <td>48.000000</td>\n",
              "      <td>NaN</td>\n",
              "      <td>NaN</td>\n",
              "      <td>NaN</td>\n",
              "    </tr>\n",
              "  </tbody>\n",
              "</table>\n",
              "</div>\n",
              "      <button class=\"colab-df-convert\" onclick=\"convertToInteractive('df-0809d70a-6f51-4997-8c9c-e7c7a793124d')\"\n",
              "              title=\"Convert this dataframe to an interactive table.\"\n",
              "              style=\"display:none;\">\n",
              "        \n",
              "  <svg xmlns=\"http://www.w3.org/2000/svg\" height=\"24px\"viewBox=\"0 0 24 24\"\n",
              "       width=\"24px\">\n",
              "    <path d=\"M0 0h24v24H0V0z\" fill=\"none\"/>\n",
              "    <path d=\"M18.56 5.44l.94 2.06.94-2.06 2.06-.94-2.06-.94-.94-2.06-.94 2.06-2.06.94zm-11 1L8.5 8.5l.94-2.06 2.06-.94-2.06-.94L8.5 2.5l-.94 2.06-2.06.94zm10 10l.94 2.06.94-2.06 2.06-.94-2.06-.94-.94-2.06-.94 2.06-2.06.94z\"/><path d=\"M17.41 7.96l-1.37-1.37c-.4-.4-.92-.59-1.43-.59-.52 0-1.04.2-1.43.59L10.3 9.45l-7.72 7.72c-.78.78-.78 2.05 0 2.83L4 21.41c.39.39.9.59 1.41.59.51 0 1.02-.2 1.41-.59l7.78-7.78 2.81-2.81c.8-.78.8-2.07 0-2.86zM5.41 20L4 18.59l7.72-7.72 1.47 1.35L5.41 20z\"/>\n",
              "  </svg>\n",
              "      </button>\n",
              "      \n",
              "  <style>\n",
              "    .colab-df-container {\n",
              "      display:flex;\n",
              "      flex-wrap:wrap;\n",
              "      gap: 12px;\n",
              "    }\n",
              "\n",
              "    .colab-df-convert {\n",
              "      background-color: #E8F0FE;\n",
              "      border: none;\n",
              "      border-radius: 50%;\n",
              "      cursor: pointer;\n",
              "      display: none;\n",
              "      fill: #1967D2;\n",
              "      height: 32px;\n",
              "      padding: 0 0 0 0;\n",
              "      width: 32px;\n",
              "    }\n",
              "\n",
              "    .colab-df-convert:hover {\n",
              "      background-color: #E2EBFA;\n",
              "      box-shadow: 0px 1px 2px rgba(60, 64, 67, 0.3), 0px 1px 3px 1px rgba(60, 64, 67, 0.15);\n",
              "      fill: #174EA6;\n",
              "    }\n",
              "\n",
              "    [theme=dark] .colab-df-convert {\n",
              "      background-color: #3B4455;\n",
              "      fill: #D2E3FC;\n",
              "    }\n",
              "\n",
              "    [theme=dark] .colab-df-convert:hover {\n",
              "      background-color: #434B5C;\n",
              "      box-shadow: 0px 1px 3px 1px rgba(0, 0, 0, 0.15);\n",
              "      filter: drop-shadow(0px 1px 2px rgba(0, 0, 0, 0.3));\n",
              "      fill: #FFFFFF;\n",
              "    }\n",
              "  </style>\n",
              "\n",
              "      <script>\n",
              "        const buttonEl =\n",
              "          document.querySelector('#df-0809d70a-6f51-4997-8c9c-e7c7a793124d button.colab-df-convert');\n",
              "        buttonEl.style.display =\n",
              "          google.colab.kernel.accessAllowed ? 'block' : 'none';\n",
              "\n",
              "        async function convertToInteractive(key) {\n",
              "          const element = document.querySelector('#df-0809d70a-6f51-4997-8c9c-e7c7a793124d');\n",
              "          const dataTable =\n",
              "            await google.colab.kernel.invokeFunction('convertToInteractive',\n",
              "                                                     [key], {});\n",
              "          if (!dataTable) return;\n",
              "\n",
              "          const docLinkHtml = 'Like what you see? Visit the ' +\n",
              "            '<a target=\"_blank\" href=https://colab.research.google.com/notebooks/data_table.ipynb>data table notebook</a>'\n",
              "            + ' to learn more about interactive tables.';\n",
              "          element.innerHTML = '';\n",
              "          dataTable['output_type'] = 'display_data';\n",
              "          await google.colab.output.renderOutput(dataTable, element);\n",
              "          const docLink = document.createElement('div');\n",
              "          docLink.innerHTML = docLinkHtml;\n",
              "          element.appendChild(docLink);\n",
              "        }\n",
              "      </script>\n",
              "    </div>\n",
              "  </div>\n",
              "  "
            ]
          },
          "metadata": {},
          "execution_count": 17
        }
      ],
      "source": [
        "part1_data.describe(include='all')"
      ]
    },
    {
      "cell_type": "markdown",
      "metadata": {
        "id": "yrh0tDMIa3EW"
      },
      "source": [
        "**EDA:**\n",
        "Univariate analysis"
      ]
    },
    {
      "cell_type": "code",
      "execution_count": 18,
      "metadata": {
        "colab": {
          "base_uri": "https://localhost:8080/",
          "height": 279
        },
        "id": "-TJgWYW-SnvQ",
        "outputId": "3e7e5e12-2110-4cb1-f653-86056e039169"
      },
      "outputs": [
        {
          "output_type": "display_data",
          "data": {
            "text/plain": [
              "<Figure size 432x288 with 1 Axes>"
            ],
            "image/png": "[encoded data removed]"
          },
          "metadata": {
            "needs_background": "light"
          }
        }
      ],
      "source": [
        "# Checking the distribtion of male and female\n",
        "sns.countplot(x='gender',data=part1_data);"
      ]
    },
    {
      "cell_type": "code",
      "execution_count": 19,
      "metadata": {
        "colab": {
          "base_uri": "https://localhost:8080/",
          "height": 497
        },
        "id": "2LdpkbynaLRW",
        "outputId": "b88b103d-37f9-473c-ed1f-f041b45568b3"
      },
      "outputs": [
        {
          "output_type": "display_data",
          "data": {
            "text/plain": [
              "<Figure size 1440x576 with 1 Axes>"
            ],
            "image/png": "[encoded data removed]"
          },
          "metadata": {
            "needs_background": "light"
          }
        }
      ],
      "source": [
        "fig, ax = plt.subplots(figsize=(20, 8))\n",
        "sns.countplot(x='age',data=part1_data);"
      ]
    },
    {
      "cell_type": "code",
      "execution_count": 20,
      "metadata": {
        "colab": {
          "base_uri": "https://localhost:8080/",
          "height": 679
        },
        "id": "RKeRlAeZG2u9",
        "outputId": "9cac4800-0016-40dd-e5f9-e72828d918b7"
      },
      "outputs": [
        {
          "output_type": "execute_result",
          "data": {
            "text/plain": [
              "(array([ 0,  1,  2,  3,  4,  5,  6,  7,  8,  9, 10, 11, 12, 13, 14, 15, 16,\n",
              "        17, 18, 19, 20, 21, 22, 23, 24, 25, 26, 27, 28, 29, 30, 31, 32, 33,\n",
              "        34, 35, 36, 37, 38, 39]), <a list of 40 Text major ticklabel objects>)"
            ]
          },
          "metadata": {},
          "execution_count": 20
        },
        {
          "output_type": "display_data",
          "data": {
            "text/plain": [
              "<Figure size 1440x576 with 1 Axes>"
            ],
            "image/png": "[encoded data removed]"
          },
          "metadata": {}
        }
      ],
      "source": [
        "sns.set(rc={'figure.figsize':(15,8.27)})\n",
        "fig, ax = plt.subplots(figsize=(20, 8))\n",
        "sns.countplot(x='topic',data=part1_data)\n",
        "plt.xticks(rotation=90)"
      ]
    },
    {
      "cell_type": "code",
      "execution_count": 21,
      "metadata": {
        "colab": {
          "base_uri": "https://localhost:8080/",
          "height": 591
        },
        "id": "F4yTmWNoG2xs",
        "outputId": "28955630-a84a-4ebf-81d2-8d8c60ba6d36"
      },
      "outputs": [
        {
          "output_type": "execute_result",
          "data": {
            "text/plain": [
              "(array([ 0,  1,  2,  3,  4,  5,  6,  7,  8,  9, 10, 11]),\n",
              " <a list of 12 Text major ticklabel objects>)"
            ]
          },
          "metadata": {},
          "execution_count": 21
        },
        {
          "output_type": "display_data",
          "data": {
            "text/plain": [
              "<Figure size 1080x595.44 with 1 Axes>"
            ],
            "image/png": "[encoded data removed]"
          },
          "metadata": {}
        }
      ],
      "source": [
        "sns.countplot(x='sign',data=part1_data)\n",
        "plt.xticks(rotation=45)"
      ]
    },
    {
      "cell_type": "code",
      "execution_count": 22,
      "metadata": {
        "colab": {
          "base_uri": "https://localhost:8080/",
          "height": 498
        },
        "id": "TBEg76VzG1V-",
        "outputId": "fd6d2eae-9ebd-4f63-8a15-c1137415ca7c"
      },
      "outputs": [
        {
          "output_type": "display_data",
          "data": {
            "text/plain": [
              "<Figure size 1440x576 with 1 Axes>"
            ],
            "image/png": "[encoded data removed]"
          },
          "metadata": {}
        }
      ],
      "source": [
        "ig, ax = plt.subplots(figsize=(20, 8))\n",
        "sns.countplot(x=\"age\", hue=\"gender\", data=part1_data);"
      ]
    },
    {
      "cell_type": "code",
      "execution_count": 23,
      "metadata": {
        "colab": {
          "base_uri": "https://localhost:8080/",
          "height": 627
        },
        "id": "qwt6gIr5HbBg",
        "outputId": "090dc298-3b46-4d99-d69c-7792208d83e6"
      },
      "outputs": [
        {
          "output_type": "display_data",
          "data": {
            "text/plain": [
              "<Figure size 1440x576 with 1 Axes>"
            ],
            "image/png": "[encoded data removed]"
          },
          "metadata": {}
        }
      ],
      "source": [
        "fig, ax = plt.subplots(figsize=(20, 8))\n",
        "sns.countplot(x=\"topic\", hue=\"gender\", data=part1_data)\n",
        "plt.xticks(rotation=90);"
      ]
    },
    {
      "cell_type": "markdown",
      "metadata": {
        "id": "Jt8NMgTYH3Q-"
      },
      "source": [
        "**Checking some of the blogs**"
      ]
    },
    {
      "cell_type": "code",
      "execution_count": 24,
      "metadata": {
        "colab": {
          "base_uri": "https://localhost:8080/",
          "height": 52
        },
        "id": "DqxwURfHHbDs",
        "outputId": "20f00057-6709-4931-f07a-340da07d0d44"
      },
      "outputs": [
        {
          "output_type": "execute_result",
          "data": {
            "text/plain": [
              "'           Info has been found (+/- 100 pages, and 4.5 MB of .pdf files) Now i have to wait untill our team leader has processed it and learns html.         '"
            ],
            "application/vnd.google.colaboratory.intrinsic+json": {
              "type": "string"
            }
          },
          "metadata": {},
          "execution_count": 24
        }
      ],
      "source": [
        "part1_data['text'][0]"
      ]
    },
    {
      "cell_type": "code",
      "execution_count": 25,
      "metadata": {
        "colab": {
          "base_uri": "https://localhost:8080/",
          "height": 156
        },
        "id": "hJ4uu3hwHbF7",
        "outputId": "7ff5ac66-4649-428c-b9c9-22186dfa9d2d"
      },
      "outputs": [
        {
          "output_type": "execute_result",
          "data": {
            "text/plain": [
              "\"             Ah, the Korean language...it looks so difficult at first, then as you figure out how to read Hanguel (Korea's surprisingly easy-to-learn alphabet of 24 characters) it seems so easy. Then the vocabulary starts. Oh no. Then the backwards (to us) sentence structure.  Yikes!  Luckily there are many options for us slow-witted foreigners to take on the language.  Of course I could list them here but  urlLink this JoongAng article  says a lot and there are more resources  urlLink here .    Well, if you're a guy here is some motivation for you: Jeon Ji Hyun (전지현), the latest 20-something (24, actually) star of movies and CFs (I hear this means Commercial Feature, but not positive).  I saw her latest movie on Sunday night.  It's hard to describe the name...the English version is 'Windstruck' but the Korean version is 여친소 (yeochinso) which is short for 내여자친구를소개합니다 (ne yeojachingu rul sogayhamnida) or 'I'd like to introduce you to my girlfriend'.  Surprisingly, both titles make sense.  If you like, there is a website (Korean and English, looks quite good, actually)  urlLink here .  The movie is shown in theatres with subtitles at special times, that info is  urlLink here . For a list of many of the theatres in Seoul click....  urlLink here!    urlLink    Here is a great reason to learn Korean...if I wasn't already married, that is.  I went with a few foreigners as well as a local/Korean/National...of course the Korean HAD to take a picture...so I HAVE to put it up here.   urlLink    Here we are after the movie...and before the hof/bar.     Update:  A bud of mine passed  urlLink this link  on to me. It's 전지현 in a Giordano ad. Apparently it was NOT aired in Korea (nothing XXX about it, it's all about sensibilities of some sort).         \""
            ],
            "application/vnd.google.colaboratory.intrinsic+json": {
              "type": "string"
            }
          },
          "metadata": {},
          "execution_count": 25
        }
      ],
      "source": [
        "part1_data['text'][10]"
      ]
    },
    {
      "cell_type": "code",
      "execution_count": 26,
      "metadata": {
        "colab": {
          "base_uri": "https://localhost:8080/",
          "height": 156
        },
        "id": "qhrL1daqHbIz",
        "outputId": "373e8462-5ee8-4c81-aa00-02aad655e4e7"
      },
      "outputs": [
        {
          "output_type": "execute_result",
          "data": {
            "text/plain": [
              "\"           In het kader van kernfusie op aarde:  MAAK JE EIGEN WATERSTOFBOM   How to build an H-Bomb From: ascott@tartarus.uwa.edu.au (Andrew Scott) Newsgroups: rec.humor Subject: How To Build An H-Bomb (humorous!) Date: 7 Feb 1994 07:41:14 GMT Organization: The University of Western Australia  Original file dated 12th November 1990. Seemed to be a transcript of a 'Seven Days' article. Poorly formatted and corrupted. I have added the text between 'examine under a microscope' and 'malleable, like gold,' as it was missing. If anyone has the full text, please distribute. I am not responsible for the accuracy of this information. Converted to HTML by Dionisio@InfiNet.com 11/13/98. (Did a little spell-checking and some minor edits too.) Stolen from  urlLink http://my.ohio.voyager.net/~dionisio/fun/m...own-h-bomb.html  and reformatted the HTML. It now validates to XHTML 1.0 Strict. How to Build an H-Bomb Making and owning an H-bomb is the kind of challenge real Americans seek. Who wants to be a passive victim of nuclear war when, with a little effort, you can be an active participant? Bomb shelters are for losers. Who wants to huddle together underground eating canned Spam? Winners want to push the button themselves. Making your own H-bomb is a big step in nuclear assertiveness training -- it's called Taking Charge. We're sure you'll enjoy the risks and the heady thrill of playing nuclear chicken. Introduction When the Feds clamped down on The Progressive magazine for attempting to publish an article on the manufacture of the hydrogen bomb, it piqued our curiosity. Was it really true that atomic and hydrogen bomb technology was so simple you could build an H-bomb in your own kitchen? Seven Days decided to find out. Food editor Barbara Ehrenreich, investigative reporter Peter Biskind, Photographer Jane Melnick and nuclear scientist Michio Kaku were given three days to cook up a workable H-bomb. They did and we have decided to share their culinary secrets with you. Not that Seven Days supports nuclear terrorism. We don't. We would prefer to die slowly from familiar poisons like low-level radiation, microwaves, DDT, DBCP, aflatoxins, PBBs, PBCs, or food dyes, rather than unexpectedly, say as hostage to a Latvian nationalist brandishing a homemade bomb. In our view the real terrorists are the governments, American, Soviet, French, Chinese, and British, that are hoarding H-bombs for their own use, and worse still, those governments (U.S., French and German) that are eagerly peddling advanced nuclear technology to countries like South Africa, Brazil, and Argentina so that they can make their own bombs. When these bombs are used, and they will be, it will be the world's big-time nuclear peddlers, along with corporate suppliers like General Electric, Westinghouse, and Gulf Oil, that we can thank for it. Gagging The Progressive will do no more for national security than backyard bomb shelters because like it or not the news is out. The heart of the successful H-bomb is the successful A-bomb. Once you've got your A-bombs made the rest is frosting on the cake. All you have to do is set them up so that when they detonate they'll start off a hydrogen-fusion reaction.  Part 1: Making Your Bomb Step 1: Getting the Ingredients Uranium is the basic ingredient of the A-bomb. When a uranium atom's nucleus splits apart, it releases a tremendous amount of energy (for its size), and it emits neutrons which go on to split other nearby uranium nuclei, releasing more energy, in what is called a 'chain reaction'. (When atoms split, matter is converted into energy according to Einstein's equation E=MC2. What better way to mark his birthday than with your own atomic fireworks?) There are two kinds (isotopes) of uranium: the rare U-235, used in bombs, and the more common, heavier, but useless U-238. Natural uranium contains less than 1 percent U-235 and in order to be usable in bombs it has to be 'enriched' to 90 percent U-235 and only 10 percent U-238. Plutonium-239 can also be used in bombs as a substitute for U-235. Ten pounds of U-235 (or slightly less plutonium) is all that is necessary for a bomb. Less than ten pounds won't give you a critical mass. So purifying or enriching naturally occurring uranium is likely to be your first big hurdle. It is infinitely easy to steal ready-to-use enriched uranium or plutonium than to enrich some yourself. And stealing uranium is not as hard as it sounds. There are at least three sources of enriched uranium or plutonium... Enriched uranium is manufactured at a gaseous diffusion plant in Portsmouth, Ohio. From there it is shipped in 10 liter bottles by airplane and trucks to conversion plants that turn it into uranium oxide or uranium metal. Each 10 liter bottle contains 7 kilograms of U-235, and there are 20 bottles to a typical shipment. Conversion facilities exist at Hematite, Missouri; Apollo, Pennsylvania; and Erwin, Tennessee. The Kerr-McGee plant at Crescent Oklahoma -- where Karen Silkwood worked -- was a conversion plant that 'lost' 40 lbs of plutonium. Enriched uranium can be stolen from these plants or from fuel-fabricating plants like those in New Haven, San Diego; or Lynchburg, Virginia. (A former Kerr-McGee supervisor, James V. Smith, when asked at the Silkwood trial if there were any security precautions at the plant to prevent theft, testified that 'There were none of any kind, no guards, no fences, no nothing.') Plutonium can be obtained from places like United Nuclear in Pawling, New York; Nuclear Fuel Services in Erwin, Tennessee; General Electric in Pleasanton, California; Westinghouse in Cheswick, Pennsylvania; Nuclear Materials and Equipment Corporation (NUMEC) in Leechburg, Pennsylvania; and plants in Hanfford, Washington and Morris, Illinois. According to Rolling Stone magazine the Israelis were involved in the theft of plutonium from NUMEC. Finally you can steal enriched uranium or plutonium while it's en-route from conversion plants to fuel fabricating plants. It is usually transported (by air or truck) in the form of uranium oxide, a brownish powder resembling instant coffee, or as a metal, coming in small chunks called 'broken buttons.' Both forms are shipped in small cans stacked in 5-inch cylinders braced with welded struts in the center of ordinary 55 gallon steel drums. The drums weigh about 100 pounds and are clearly marked 'Fissible Material' or 'Danger, Plutonium.' A typical shipment might go from the enrichment plant at Portsmouth, Ohio to the conversion plant in Hematite Missouri then to Kansas City by truck where it would be flown to Los Angeles and then trucked down to the General Atomic plant in San Diego. The plans for the General Atomic plant are on file at the Nuclear Regulatory Commission's reading room at 1717 H Street NW Washington. A Xerox machine is provided for the convenience of the public. If you can't get hold of any enriched uranium you'll have to settle for commercial grade (20 percent U-235). This can be stolen from university reactors of a type called TRIGA Mark II, where security is even more casual than at commercial plants. If stealing uranium seems too tacky you can buy it. Unenriched uranium is available at any chemical supply house for $23 a pound. Commercial grade (3 to 20 percent enriched) is available for $40 a pound from Gulf Atomic. You'll have to enrich it further yourself. Quite frankly this can be something of a pain in the ass. You'll need to start with a little more than 50 pounds of commercial-grade uranium. (It's only 20 percent U-235 at best, and you need 10 pounds of U-235 so... ) But with a little kitchen-table chemistry you'll be able to convert the solid uranium oxide you've purchased into a liquid form. Once you've done that, you'll be able to separate the U-235 that you'll need from the U-238. First pour a few gallons of concentrated hydrofluoric acid into your uranium oxide, converting it to uranium tetrafluoride. (Safety note: Concentrated hydrofluoric acid is so corrosive that it will eat its way through glass, so store it only in plastic. Used 1-gallon plastic milk containers will do.) Now you have to convert your uranium tetrafluoride to uranium hexafluoride, the gaseous form of uranium, which is convenient for separating out the isotope U-235 from U-238. To get the hexafluoride form, bubble fluorine gas into your container of uranium tetrafluoride. Fluorine is available in pressurized tanks from chemical-supply firms. Be careful how you use it though because fluorine is several times more deadly than chlorine, the classic World War I poison gas. Chemists recommend that you carry out this step under a stove hood (the kind used to remove unpleasant cooking odors). If you've done your chemistry right you should now have a generous supply of uranium hexafluoride ready for enriching. In the old horse-and-buggy days of A-bomb manufacture the enrichment was carried out by passing the uranium hexafluoride through hundreds of miles of pipes, tubes, and membranes, until the U-235 was eventually separated from the U-238. This gaseous-diffusion process, as it was called is difficult, time-consuming, and expensive. Gaseous-diffusion plants cover hundreds of acres and cost in the neighborhood of $2-billion each. So forget it. There are easier, and cheaper, ways to enrich your uranium. First transform the gas into a liquid by subjecting it to pressure. You can use a bicycle pump for this. Then make a simple home centrifuge. Fill a standard-size bucket one-quarter full of liquid uranium hexafluoride. Attach a six-foot rope to the bucket handle. Now swing the rope (and attached bucket) around your head as fast as possible. Keep this up for about 45 minutes. Slow down gradually, and very gently put the bucket on the floor. The U-235, which is lighter, will have risen to the top, where it can be skimmed off like cream. Repeat this step until you have the required 10 pounds of uranium. (Safety note: Don't put all your enriched uranium hexafluoride in one bucket. Use at least two or three buckets and keep them in separate corners of the room. This will prevent the premature build-up of a critical mass.) Now it's time to convert your enriched uranium back to metal form. This is easily enough accomplished by spooning several ladlefuls of calcium (available in tablet form from your drugstore) into each bucket of uranium. The calcium will react with the uranium hexafluoride to produce calcium fluoride, a colorless salt which can be easily be separated from your pure enriched uranium metal. A few precautions: • While uranium is not dangerously radioactive in the amounts you'll be handling, if you plan to make more than one bomb it might be wise to wear gloves and a lead apron, the kind you can buy in dental supply stores. • Plutonium is one of the most toxic substances known. If inhaled, a thousandth of a gram can cause massive fibrosis of the lungs, a painful way to go. Even a millionth of a gram in the lungs will cause cancer. If eaten plutonium is metabolized like calcium. It goes straight to the bones where it gives out alpha particles preventing bone marrow from manufacturing red blood cells. The best way to avoid inhaling plutonium is to hold your breath while handling it. If this is too difficult wear a mask. To avoid ingesting plutonium orally follow this simple rule: never make an A-bomb on an empty stomach. • If you find yourself dozing off while you're working, or if you begin to glow in the dark, it might be wise to take a blood count. Prick your finger with a sterile pin, place a drop of blood on a microscope slide, cover it with a cover slip, and examine under a microscope. (Best results are obtained in the early morning.) When you get leukemia, immature cells are released into the bloodstream, and usually the number of white cells increases (though this increase might take almost 2 weeks). Red blood cells look kind of like donuts (without the hole), and are slightly smaller than the white cells, each of which has a nucleus. Immature red cells look similar to white cells (i.e.. slightly larger and have a nucleus). If you have more than about 1 white cell (including immature ones) to 400 red cells then start to worry. But, depending upon your plans for the eventual use of the bomb, a short life expectancy might not be a problem.  Step 2: Assembling the A-Bomb Now that you've acquired the enriched uranium, all that's left is to assemble your A-bomb. Go find a couple of stainless steel salad bowls. You also want to separate your 10 pounds of U-235 into two hunks. (Keep them apart!) The idea is to push each half your uranium into the inside of a bowl. Take one hunk of your uranium and beat it into the inside of the first bowl. Uranium is malleable, like gold, so you should have no trouble hammering it into the bowl to get a good fit. Take another five-pound hunk of uranium and fit it into a second stainless steel bowl. These two bowls of U-235 are the 'subcritical masses' which, when brought together forcefully, will provide the critical mass that makes your A-bomb go. Keep them a respectful distance apart while working because you don't want them to 'go critical' on you... At least not yet. Now hollow out the body of an old vacuum cleaner and place your two hemispherical bowls inside, open ends facing each other, no less than seven inches apart, using masking tape to set them up in position. The reason for the steel bowls and the vacuum cleaner, in case you're wondering, is that these help reflect the neutrons back into the uranium for a more efficient explosion. 'A loose neutron is a useless neutron' as the A-bomb pioneers used to say. As far as the A-bomb goes, you're almost done. The final problem is to figure out how to get the two U-235 hemispheres to smash into each other with sufficient force to set off a truly effective fission reaction. Almost any type of explosive can be used to drive them together. Gunpowder, for example, is easily made at home from potassium nitrate, sulfur, and carbon. Or, you can get some blasting caps or TNT. (Buy them or steal them from a construction site.) Best of all is C4 plastic explosive. You can mold it around your bowls, and it's fairly safe to work with. (But, it might be wise to shape it around an extra salad bowl in another room, and THEN fit it to your uranium-packed bowls. This is particularly true in winter, when a stray static electrical charge might induce ignition in the C4. A responsible bomb maker considers it impolite to accidentally destroy more of the neighborhood than absolutely necessary.) Once the explosives are in place all you need to do is hook up a simple detonation device with a few batteries, a switch, and some wire. Remember though that it is essential that the two charges -- one on each side of the casing -- go off simultaneously. Now put the whole thing in the casing of an old Hoover vacuum cleaner and you're finished with this part of the process. The rest is easy.  Step 3: Make More A-Bombs Following the Directions Above  A Word to the Wise About Wastes After your A-bomb is completed you'll have a pile of moderately fatal radioactive wastes like U-238. These are not dangerous, but you do have to get rid of them. You can flush leftovers down the toilet. (Don't worry about polluting the ocean, there is already so much radioactive waste there, a few more bucketfuls won't make any waves whatsoever.) If you're the fastidious type -- the kind who never leaves gum under their seat at the movies -- you can seal the nasty stuff in coffee cans and bury it in the backyard, just like Uncle Sam does. If the neighbor kids have a habit of trampling the lawn, tell them to play over by the waste. You'll soon find that they're spending most of their time in bed.  Going First Class If you're like us, you're feeling the economic pinch, and you'll want to make your bomb as inexpensively as possible, consonant of course with reasonable yield. The recipe we've given is for a budget-pleasing H-bomb, no frills, no flourishes; it's just a simple 5-megaton bomb, capable of wiping out the New York metropolitan area, the San Francisco Bay area, or Boston. But don't forget, your H-bomb will only be as good as the A-bombs in it. If you want to spend a little more money you can punch-up your A-bomb considerably. Instead of centrifuging your uranium by hand, you can buy a commercial centrifuge. (Fisher Scientific sells one for about $1000.) You also might want to be fussier about your design. The Hiroshima bomb, a relatively crude one, only fissioned 1 percent of it's uranium and yielded only 13 kilotons. In order to fission more of the uranium, the force of your explosive 'trigger' needs to be evenly diffused around the sphere; the same pressure has to be exerted on every point of the sphere simultaneously. (It was a technique for producing this sort of simultaneous detonation by fashioning the explosives into lenses that the government accused Julius and Ethel Rosenberg of trying to steal).  Part 2: Putting Your H-Bomb Together The heart of the H-bomb is the fusion process. Several A-bombs are detonated in such a way as to create the extremely high temperature (100 million degrees C) necessary to fuse lithium deuteride (LiD) into helium. When the lithium nucleus slams into the deuterium nucleus, two helium nuclei are created, and if this happens to enough deuterium nuclei rapidly enough, the result is an enormous amount of energy: the energy of the H-bomb. You don't have to worry about stealing lithium deuteride, it can be purchased from any chemical-supply house. It costs $1000 a pound. If your budget won't allow it you can substitute lithium hydride at $40 a pound. You will need at least 100 pounds. It's a corrosive and toxic powder so be careful. Place the lithium deuteride or hydride in glass jars and surround it with four A-bombs in their casings. Attach them to the same detonator so that they will go off simultaneously. The container for the whole thing is no problem. They can be placed anywhere: Inside an old stereo console, a discarded refrigerator, etc... When the detonator sets off the four A-bombs all eight hemispheres of fissionable material will slam into each other at the same time creating four critical masses and four detonations. This will raise the temperature of the lithium deuteride to 100 million degrees C fast enough (a few billionths of a second) so that the lithium will not be blown all over the neighborhood before the nuclei have time to fuse. The result, at least 1000 times the punch of the puny A-bomb that leveled Hiroshima (20 million tons of TNT vs. 20 thousand tons.)  Part 3: What to do With Your Bomb Now that you have a fully assembled H-bomb housed in an attractive console of your choice you may be wondering, 'What should I do with it?' Every family will have to answer this question according to its own tastes and preferences, but you may want to explore some possibilities which have been successfully pioneered by the American government. 1. Sell Your Bomb and Make a Pile of Money In these days of rising inflation, increasing unemployment, and an uncertain economic outlook, few businesses make as much sense as weapons production. If your career forecast is cloudy, bomb sales may be the only sure way to avoid the humiliation of receiving welfare, or unemployment. Regardless of your present income level, a home H-bomb business can be an invaluable income supplement, and certainly a profitable alternative to selling Tupperware or pirated Girl Scout cookies. Unfortunately for the family bomb business, big government has already cornered a large part of the world market. But this does not mean that there is a shortage of potential customers. The raid on Entebee was the Waterloo of hijacking, and many nationalist groups are now on the alert for new means to get their message across. They'd jump at the chance to get hold of an H-bomb. Emerging nations which can't ante up enough rice or sugar to buy themselves a reactor from G.E. or Westinghouse are also shopping around. You may wonder about the ethics of selling to nations, or groups, whose goals you may disapprove of. But here again, take a tip from our government: forget ideology -- it's cash that counts. And remember, H-bomb sales have a way of escalating, almost like a chain reaction. Suppose you make a sale to South Yemen which you believe to be a Soviet puppet. Well within a few days some discrete inquiries from North Yemen and possibly the Saudis, the Egyptians and the Ethiopians as well can be expected. Similarly, a sale to the IRA will generate a sale to the Ulster government; and a sale to the Tanzanians will bring the Ugandans running, and so forth. It doesn't matter WHICH side you're on, only how many sides there are. Don't forget about the possibility of repeat sales to the same customer. As the experience of both the U.S. and the U.S.S.R. has shown, each individual nation has a potentially infinite need for H-bombs. No customer -- no matter how small -- can ever have too many. 2. Use Your Bomb at Home Many families are attracted to the H-bomb simply as a 'deterrent.' A discrete sticker on the door or on the living room window saying 'This Home Protected by H-bomb' will discourage IRS investigators, census takers, and Jehovah's Witnesses. You'll be surprised how fast the crime rate will go down and property values will go up. And once the news gets out that you are a home H-bomb owner you'll find that you have unexpected leverage in neighborhood disputes over everything from parking places and stereo noise levels to school tax rates. So relax and enjoy the pride and excitement of home H-bomb ownership!  Is It For You? Let's be honest. The H-bomb isn't for everyone. Frankly there are people who can't handle it. They break out in hives at the very mention of mega-death, fallout, or radiation sickness. The following quiz will help you find out whether you have what it takes for home H-bomb ownership. If you can answer 'yes' to six or more of these questions, then you're emotionally eligible to join the nuclear club. If not, a more conventional weapon may be more your cup of tea, try botulism-toxin, laser rays, or nerve gas. 1. I ignore the demands of others. 2. I subscribe to one or more of the following: Soldier of Fortune, Hustler, Popular Mechanics, Self. 3. Though I have many interesting acquaintances, I am my own best friend. 4. I know what to say after you say 'Hello,' but I am seldom interested in pursuing the conversation. 5. I have seen the movie 'The Deer Hunter' more than once. 6. I know that everyone can be a winner if they want to, and I resent whiners. 7. I own one or more of the following: handgun, video game, trash compactor, snowmobile. 8. I am convinced that leukemia is psychosomatic. 9. I am aware that most vegetarians are sexually impotent. 10. I have read evidence that solar energy is a Communist conspiracy.  Myths About Nuclear War Ever since the first mushroom cloud over Hiroshima ushered in the atomic age, a small group of nay-sayers and doom-mongers has lobbied, campaigned and demonstrated to convince Americans that H-bomb ownership, along with nuclear power, is dangerous and unhealthy. Using their virtual stranglehold over the media, these people have tried to discredit everything nuclear from energy to war. They have vastly overrated the risks of nuclear bombs and left many Americans feeling demoralized and indecisive; not sure where the truth lies. Well, here are the myths, and here are the facts. Myth: After a nuclear exchange the earth will no longer be suitable for human habitation. Fact: This is completely false. According to one scientist (quoted in John McPee's The Curve of Binding Energy) 'The largest bomb that has ever been exploded anywhere was 60 megatons, and that is one-thousandth the force of an earthquake, one-thousandth the force of a hurricane. We have lived with earthquakes and hurricanes for a long time.' Another scientist adds, 'It is often assumed that a full blown nuclear war would be the end of life on earth. That is far from the truth. To end life on earth would take at least a thousand times the total yield of all the nuclear explosives existing in the world, and probably a lot more.' Even if humans succumbed, many forms of life would survive a nuclear free-for-all, cockroaches, certain forms of bacteria, and lichens, for instance. Myth: Radiation is bad for you. Fact: Everything is bad for you if you have too much of it. If you eat too many bananas you'll get a stomach-ache. If you get too much sun you can get sunburned (or even skin cancer). Same thing with radiation. Too much may make you feel under the weather, but nuclear industry officials insist that there is no evidence that low-level radiation has any really serious adverse effects. And, high-level radiation may bring unexpected benefits. It speeds up evolution by weeding out unwanted genetic types and creating new ones. (Remember the old saying, 'Two heads are better than one.') Nearer to home, it's plain that radiation will get rid of pesky crab grass and weeds, and teenagers will find that brief exposure to a nuclear burst vaporizes acne and other skin blemishes. (Many survivors of the Hiroshima bomb found that they were free from skin and it's attendant problems forever.) We hope this clears up any misconceptions you may have had. Enjoy your H-Bomb!           \""
            ],
            "application/vnd.google.colaboratory.intrinsic+json": {
              "type": "string"
            }
          },
          "metadata": {},
          "execution_count": 26
        }
      ],
      "source": [
        "part1_data['text'][2]"
      ]
    },
    {
      "cell_type": "markdown",
      "metadata": {
        "id": "19A4-9wnMoe2"
      },
      "source": [
        "**Data preprocessing**"
      ]
    },
    {
      "cell_type": "markdown",
      "metadata": {
        "id": "z6phl0PYM0E1"
      },
      "source": [
        "Firstly, the attribute 'age' ranges from 13 to 48. This is divided into three groups. Age 13-17 is classified to '10s blog', 23-27 to '20s blog' and beyond 33 is '30s blog'."
      ]
    },
    {
      "cell_type": "code",
      "execution_count": 27,
      "metadata": {
        "id": "Cf5jKWZ7IJOo"
      },
      "outputs": [],
      "source": [
        "# converting ages into categories.\n",
        "part1_data['age'].replace(np.arange(13,18),'10s blog', inplace= True)\n",
        "part1_data['age'].replace(np.arange(23,28),'20s blog', inplace= True)\n",
        "part1_data['age'].replace(np.arange(33,49),'30s blog', inplace= True)"
      ]
    },
    {
      "cell_type": "code",
      "execution_count": 28,
      "metadata": {
        "colab": {
          "base_uri": "https://localhost:8080/"
        },
        "id": "Hfcb6iuRMj1a",
        "outputId": "03eaf257-60b6-4757-8578-969d4c1fa2c7"
      },
      "outputs": [
        {
          "output_type": "execute_result",
          "data": {
            "text/plain": [
              "20s blog    289067\n",
              "10s blog    204864\n",
              "30s blog    117721\n",
              "Name: age, dtype: int64"
            ]
          },
          "metadata": {},
          "execution_count": 28
        }
      ],
      "source": [
        "part1_data['age'].value_counts()"
      ]
    },
    {
      "cell_type": "code",
      "execution_count": 29,
      "metadata": {
        "id": "_kmoEMZOMj4D"
      },
      "outputs": [],
      "source": [
        "#Converting sign into lower case\n",
        "part1_data['sign'] = part1_data['sign'].str.lower()"
      ]
    },
    {
      "cell_type": "code",
      "execution_count": 30,
      "metadata": {
        "id": "eup0i5J1Mj6s"
      },
      "outputs": [],
      "source": [
        "#converting genders into another characterset for easier transformation of predictions. check 'classes_y' in train test split section\n",
        "\n",
        "part1_data['gender'].replace('male','4male', inplace= True)\n",
        "part1_data['gender'].replace('female','5female', inplace= True)"
      ]
    },
    {
      "cell_type": "code",
      "execution_count": 31,
      "metadata": {
        "id": "PISy474iMj9A"
      },
      "outputs": [],
      "source": [
        "# replacing indUnk with Unknown_industry in the topic column\n",
        "part1_data['topic'].replace('indUnk','Unknown_industry', inplace= True)"
      ]
    },
    {
      "cell_type": "code",
      "execution_count": 32,
      "metadata": {
        "id": "KP2OaYU2Mj_k"
      },
      "outputs": [],
      "source": [
        "# getting unique items of each column to be used later when converting probabilities from Neural network classifier to 0s and 1s\n",
        "\n",
        "age_unique = part1_data['age'].nunique()\n",
        "gender_unique = part1_data['gender'].nunique()\n",
        "topic_unique = part1_data['topic'].nunique()\n",
        "sign_unique = part1_data['sign'].nunique()\n"
      ]
    },
    {
      "cell_type": "markdown",
      "metadata": {
        "id": "W1rAIfIaN4Jn"
      },
      "source": [
        "**The dataset has more than 6 million data points. Model building, training and testing will take a lot of time and hence only a subset of it is considered.**"
      ]
    },
    {
      "cell_type": "code",
      "execution_count": 33,
      "metadata": {
        "colab": {
          "base_uri": "https://localhost:8080/",
          "height": 363
        },
        "id": "kAP4yM27MkCN",
        "outputId": "a1387956-4019-44f7-fa45-f2daee664cf8"
      },
      "outputs": [
        {
          "output_type": "execute_result",
          "data": {
            "text/plain": [
              "    gender       age             topic         sign  \\\n",
              "0    4male  10s blog  Unknown_industry  sagittarius   \n",
              "1  5female  10s blog  Unknown_industry    capricorn   \n",
              "2    4male  10s blog           Student        libra   \n",
              "3    4male  10s blog           Student  sagittarius   \n",
              "4  5female  10s blog  Unknown_industry       pisces   \n",
              "5  5female  10s blog           Student     aquarius   \n",
              "6  5female  10s blog           Student       taurus   \n",
              "7    4male  10s blog  Unknown_industry      scorpio   \n",
              "8  5female  10s blog           Student        virgo   \n",
              "9    4male  10s blog  Unknown_industry      scorpio   \n",
              "\n",
              "                                                text  \n",
              "0         For those of you on Friendster, and mos...  \n",
              "1          Wearing: Tool band tee, dickies, socks...  \n",
              "2         since afternoon i've been doin nuthin o...  \n",
              "3             Today:    * Two point five weeks of...  \n",
              "4                    day 3: flag day   helloz aga...  \n",
              "5                     halo..tis few days abit bus...  \n",
              "6         ahahaha me and em are the coolest!!!!!!...  \n",
              "7         Well friends, the Englewood Beach was a...  \n",
              "8                  Hi...i am sick and at home...m...  \n",
              "9         Feeling guilty for leaving people out. ...  "
            ],
            "text/html": [
              "\n",
              "  <div id=\"df-f13cf341-5495-45eb-a618-afaec7665002\">\n",
              "    <div class=\"colab-df-container\">\n",
              "      <div>\n",
              "<style scoped>\n",
              "    .dataframe tbody tr th:only-of-type {\n",
              "        vertical-align: middle;\n",
              "    }\n",
              "\n",
              "    .dataframe tbody tr th {\n",
              "        vertical-align: top;\n",
              "    }\n",
              "\n",
              "    .dataframe thead th {\n",
              "        text-align: right;\n",
              "    }\n",
              "</style>\n",
              "<table border=\"1\" class=\"dataframe\">\n",
              "  <thead>\n",
              "    <tr style=\"text-align: right;\">\n",
              "      <th></th>\n",
              "      <th>gender</th>\n",
              "      <th>age</th>\n",
              "      <th>topic</th>\n",
              "      <th>sign</th>\n",
              "      <th>text</th>\n",
              "    </tr>\n",
              "  </thead>\n",
              "  <tbody>\n",
              "    <tr>\n",
              "      <th>0</th>\n",
              "      <td>4male</td>\n",
              "      <td>10s blog</td>\n",
              "      <td>Unknown_industry</td>\n",
              "      <td>sagittarius</td>\n",
              "      <td>For those of you on Friendster, and mos...</td>\n",
              "    </tr>\n",
              "    <tr>\n",
              "      <th>1</th>\n",
              "      <td>5female</td>\n",
              "      <td>10s blog</td>\n",
              "      <td>Unknown_industry</td>\n",
              "      <td>capricorn</td>\n",
              "      <td>Wearing: Tool band tee, dickies, socks...</td>\n",
              "    </tr>\n",
              "    <tr>\n",
              "      <th>2</th>\n",
              "      <td>4male</td>\n",
              "      <td>10s blog</td>\n",
              "      <td>Student</td>\n",
              "      <td>libra</td>\n",
              "      <td>since afternoon i've been doin nuthin o...</td>\n",
              "    </tr>\n",
              "    <tr>\n",
              "      <th>3</th>\n",
              "      <td>4male</td>\n",
              "      <td>10s blog</td>\n",
              "      <td>Student</td>\n",
              "      <td>sagittarius</td>\n",
              "      <td>Today:    * Two point five weeks of...</td>\n",
              "    </tr>\n",
              "    <tr>\n",
              "      <th>4</th>\n",
              "      <td>5female</td>\n",
              "      <td>10s blog</td>\n",
              "      <td>Unknown_industry</td>\n",
              "      <td>pisces</td>\n",
              "      <td>day 3: flag day   helloz aga...</td>\n",
              "    </tr>\n",
              "    <tr>\n",
              "      <th>5</th>\n",
              "      <td>5female</td>\n",
              "      <td>10s blog</td>\n",
              "      <td>Student</td>\n",
              "      <td>aquarius</td>\n",
              "      <td>halo..tis few days abit bus...</td>\n",
              "    </tr>\n",
              "    <tr>\n",
              "      <th>6</th>\n",
              "      <td>5female</td>\n",
              "      <td>10s blog</td>\n",
              "      <td>Student</td>\n",
              "      <td>taurus</td>\n",
              "      <td>ahahaha me and em are the coolest!!!!!!...</td>\n",
              "    </tr>\n",
              "    <tr>\n",
              "      <th>7</th>\n",
              "      <td>4male</td>\n",
              "      <td>10s blog</td>\n",
              "      <td>Unknown_industry</td>\n",
              "      <td>scorpio</td>\n",
              "      <td>Well friends, the Englewood Beach was a...</td>\n",
              "    </tr>\n",
              "    <tr>\n",
              "      <th>8</th>\n",
              "      <td>5female</td>\n",
              "      <td>10s blog</td>\n",
              "      <td>Student</td>\n",
              "      <td>virgo</td>\n",
              "      <td>Hi...i am sick and at home...m...</td>\n",
              "    </tr>\n",
              "    <tr>\n",
              "      <th>9</th>\n",
              "      <td>4male</td>\n",
              "      <td>10s blog</td>\n",
              "      <td>Unknown_industry</td>\n",
              "      <td>scorpio</td>\n",
              "      <td>Feeling guilty for leaving people out. ...</td>\n",
              "    </tr>\n",
              "  </tbody>\n",
              "</table>\n",
              "</div>\n",
              "      <button class=\"colab-df-convert\" onclick=\"convertToInteractive('df-f13cf341-5495-45eb-a618-afaec7665002')\"\n",
              "              title=\"Convert this dataframe to an interactive table.\"\n",
              "              style=\"display:none;\">\n",
              "        \n",
              "  <svg xmlns=\"http://www.w3.org/2000/svg\" height=\"24px\"viewBox=\"0 0 24 24\"\n",
              "       width=\"24px\">\n",
              "    <path d=\"M0 0h24v24H0V0z\" fill=\"none\"/>\n",
              "    <path d=\"M18.56 5.44l.94 2.06.94-2.06 2.06-.94-2.06-.94-.94-2.06-.94 2.06-2.06.94zm-11 1L8.5 8.5l.94-2.06 2.06-.94-2.06-.94L8.5 2.5l-.94 2.06-2.06.94zm10 10l.94 2.06.94-2.06 2.06-.94-2.06-.94-.94-2.06-.94 2.06-2.06.94z\"/><path d=\"M17.41 7.96l-1.37-1.37c-.4-.4-.92-.59-1.43-.59-.52 0-1.04.2-1.43.59L10.3 9.45l-7.72 7.72c-.78.78-.78 2.05 0 2.83L4 21.41c.39.39.9.59 1.41.59.51 0 1.02-.2 1.41-.59l7.78-7.78 2.81-2.81c.8-.78.8-2.07 0-2.86zM5.41 20L4 18.59l7.72-7.72 1.47 1.35L5.41 20z\"/>\n",
              "  </svg>\n",
              "      </button>\n",
              "      \n",
              "  <style>\n",
              "    .colab-df-container {\n",
              "      display:flex;\n",
              "      flex-wrap:wrap;\n",
              "      gap: 12px;\n",
              "    }\n",
              "\n",
              "    .colab-df-convert {\n",
              "      background-color: #E8F0FE;\n",
              "      border: none;\n",
              "      border-radius: 50%;\n",
              "      cursor: pointer;\n",
              "      display: none;\n",
              "      fill: #1967D2;\n",
              "      height: 32px;\n",
              "      padding: 0 0 0 0;\n",
              "      width: 32px;\n",
              "    }\n",
              "\n",
              "    .colab-df-convert:hover {\n",
              "      background-color: #E2EBFA;\n",
              "      box-shadow: 0px 1px 2px rgba(60, 64, 67, 0.3), 0px 1px 3px 1px rgba(60, 64, 67, 0.15);\n",
              "      fill: #174EA6;\n",
              "    }\n",
              "\n",
              "    [theme=dark] .colab-df-convert {\n",
              "      background-color: #3B4455;\n",
              "      fill: #D2E3FC;\n",
              "    }\n",
              "\n",
              "    [theme=dark] .colab-df-convert:hover {\n",
              "      background-color: #434B5C;\n",
              "      box-shadow: 0px 1px 3px 1px rgba(0, 0, 0, 0.15);\n",
              "      filter: drop-shadow(0px 1px 2px rgba(0, 0, 0, 0.3));\n",
              "      fill: #FFFFFF;\n",
              "    }\n",
              "  </style>\n",
              "\n",
              "      <script>\n",
              "        const buttonEl =\n",
              "          document.querySelector('#df-f13cf341-5495-45eb-a618-afaec7665002 button.colab-df-convert');\n",
              "        buttonEl.style.display =\n",
              "          google.colab.kernel.accessAllowed ? 'block' : 'none';\n",
              "\n",
              "        async function convertToInteractive(key) {\n",
              "          const element = document.querySelector('#df-f13cf341-5495-45eb-a618-afaec7665002');\n",
              "          const dataTable =\n",
              "            await google.colab.kernel.invokeFunction('convertToInteractive',\n",
              "                                                     [key], {});\n",
              "          if (!dataTable) return;\n",
              "\n",
              "          const docLinkHtml = 'Like what you see? Visit the ' +\n",
              "            '<a target=\"_blank\" href=https://colab.research.google.com/notebooks/data_table.ipynb>data table notebook</a>'\n",
              "            + ' to learn more about interactive tables.';\n",
              "          element.innerHTML = '';\n",
              "          dataTable['output_type'] = 'display_data';\n",
              "          await google.colab.output.renderOutput(dataTable, element);\n",
              "          const docLink = document.createElement('div');\n",
              "          docLink.innerHTML = docLinkHtml;\n",
              "          element.appendChild(docLink);\n",
              "        }\n",
              "      </script>\n",
              "    </div>\n",
              "  </div>\n",
              "  "
            ]
          },
          "metadata": {},
          "execution_count": 33
        }
      ],
      "source": [
        "## subsetting the dataset, considering that the size of dataset is large, execution is taking time if more rows are included specially at the stage of model building, training, testing and execution \n",
        "\n",
        "part1_data_sample = part1_data.groupby('age').sample(n=35000, random_state=1)   # taking random 35000 data entries from each of the age group\n",
        "part1_data_sample.reset_index(inplace=True,drop=True)\n",
        "part1_data_sample.head(10)"
      ]
    },
    {
      "cell_type": "code",
      "execution_count": 34,
      "metadata": {
        "colab": {
          "base_uri": "https://localhost:8080/"
        },
        "id": "rzLccCXIMkEy",
        "outputId": "8faddb6d-39ef-47bd-e2d1-f9798526f429"
      },
      "outputs": [
        {
          "output_type": "stream",
          "name": "stdout",
          "text": [
            "The shape of the dataframe to be used for further analysis is (105000, 5)\n"
          ]
        }
      ],
      "source": [
        "print('The shape of the dataframe to be used for further analysis is',part1_data_sample.shape)"
      ]
    },
    {
      "cell_type": "markdown",
      "metadata": {
        "id": "q_1nlTgKOcWG"
      },
      "source": [
        "**Data cleansing by removing unwanted characters, spaces, stop words etc. Convert text to lowercase**"
      ]
    },
    {
      "cell_type": "code",
      "execution_count": 35,
      "metadata": {
        "id": "9RqOIOheMkHO"
      },
      "outputs": [],
      "source": [
        "part1_data_sample['clean_data']=part1_data_sample['text'].apply(lambda x: re.sub(r'[^A-Za-z]+',' ',x))  # keeping only english alphabets strings. removing numbers, the brackets, the full stops etc. \n",
        "part1_data_sample['clean_data']=part1_data_sample['clean_data'].apply(lambda x: re.sub(r'urlLink|urllink','',x))   # remove all the places where the string urllink comes\n",
        "part1_data_sample['clean_data']=part1_data_sample['clean_data'].apply(lambda x: re.sub(r'https?\\S+','',x))   # remove all the places where any url comes that starts with http or https\n",
        "part1_data_sample['clean_data']=part1_data_sample['clean_data'].apply(lambda x: x.lower())   # lowercase each word in the string\n",
        "part1_data_sample['clean_data']=part1_data_sample['clean_data'].apply(lambda x: x.strip())   # remove spaces\n",
        "part1_data_sample['clean_data']=part1_data_sample['clean_data'].apply(lambda x: ' '.join([words for words in x.split() if words not in stopwords]))   # removing stop words\n",
        "part1_data_sample['clean_data']=part1_data_sample['clean_data'].apply(lambda x: re.sub(r'\\b\\w{1,2}\\b','',x))    # removing any word of length less than equal to 2\n",
        "part1_data_sample['clean_data']=part1_data_sample['clean_data'].apply(lambda x: ' '.join(dict.fromkeys(x.split())))   # removing duplicate words"
      ]
    },
    {
      "cell_type": "code",
      "execution_count": 36,
      "metadata": {
        "id": "KIxxwrMAMkKC"
      },
      "outputs": [],
      "source": [
        "# Remove Non-English Words from Normalized text\n",
        "\n",
        "words = set(nltk.corpus.words.words())\n",
        "def remove_non_english_words(blog):\n",
        "    return \" \".join(w for w in nltk.wordpunct_tokenize(blog) if w.lower() in words or not w.isalpha())\n",
        "\n",
        "part1_data_sample['clean_data'] = part1_data_sample['clean_data'].apply(remove_non_english_words)\n"
      ]
    },
    {
      "cell_type": "code",
      "execution_count": 37,
      "metadata": {
        "colab": {
          "base_uri": "https://localhost:8080/"
        },
        "id": "Eksllc3MIJRO",
        "outputId": "da2fac7d-eea2-4738-8ef3-6ae2ac6b0fc4"
      },
      "outputs": [
        {
          "output_type": "stream",
          "name": "stderr",
          "text": [
            "[nltk_data] Downloading package omw-1.4 to /root/nltk_data...\n",
            "[nltk_data]   Package omw-1.4 is already up-to-date!\n"
          ]
        }
      ],
      "source": [
        "# lemmatizing the text\n",
        "nltk.download('omw-1.4')\n",
        "w_tokenizer = nltk.tokenize.WhitespaceTokenizer()\n",
        "\n",
        "def lemmatize_text(text):\n",
        "    return [lmtzr.lemmatize(w) for w in w_tokenizer.tokenize(text)]\n",
        "\n",
        "part1_data_sample['clean_data'] = part1_data_sample['clean_data'].apply(lemmatize_text)\n"
      ]
    },
    {
      "cell_type": "code",
      "execution_count": 38,
      "metadata": {
        "id": "_ktl0IFoPUhE"
      },
      "outputs": [],
      "source": [
        "# stemming the text \n",
        "\n",
        "stemmer = SnowballStemmer(\"english\")\n",
        "part1_data_sample['clean_data'] = part1_data_sample['clean_data'].apply(lambda x: [stemmer.stem(y) for y in x]) # Stem every word."
      ]
    },
    {
      "cell_type": "code",
      "execution_count": 39,
      "metadata": {
        "colab": {
          "base_uri": "https://localhost:8080/"
        },
        "id": "bOS9IpHQIJUC",
        "outputId": "7157790b-d31c-4791-b88a-4cc3d58c70c0"
      },
      "outputs": [
        {
          "output_type": "stream",
          "name": "stdout",
          "text": [
            "           i know, and hence the comparison to hobbes. he said life was nasty brutish and short, but also advocated a strong central ruler as able to take charge of life and preserve the common man. life was bad, but a strong central leader can overcome that he argued. i'm saying it's more like locke. life is intrinsically good. we screw it up, complicate it, and confuse ourselves to death, but there are moments in there that are just so surreally good, moments where you feel so indeniably alive, moments where no one on earth can't say that, just for an instant, everything was worth it. hell, we live in those moments. either during them, or thinking of them. dreams, memories, those times where you just zone out and mentally go to another place and time are people trying to relive those moments. life is incredibly beautiful, awesome and scary. it's like trying to hold a supernova in your hand and being vaporized, turned into dust and energy cascading on the expanding exploding wavefront of the nova. 'cept most of our time on earth is spent existing, getting by; not living          \n",
            "\n",
            "['know', 'henc', 'comparison', 'said', 'life', 'nasti', 'brutish', 'short', 'also', 'strong', 'central', 'ruler', 'abl', 'take', 'charg', 'preserv', 'common', 'man', 'bad', 'leader', 'overcom', 'say', 'like', 'intrins', 'good', 'screw', 'complic', 'confus', 'death', 'feel', 'aliv', 'one', 'earth', 'say', 'instant', 'everyth', 'worth', 'hell', 'live', 'either', 'think', 'time', 'zone', 'mental', 'anoth', 'place', 'time', 'peopl', 'tri', 'reliv', 'incred', 'beauti', 'awesom', 'scari', 'hold', 'supernova', 'hand', 'turn', 'dust', 'energi', 'expand', 'nova', 'spent', 'get', 'live']\n"
          ]
        }
      ],
      "source": [
        "#Comparing one arbitrary text before and after cleaning\n",
        "\n",
        "print(part1_data_sample['text'][10],'\\n')\n",
        "print(part1_data_sample['clean_data'][10])"
      ]
    },
    {
      "cell_type": "code",
      "execution_count": 40,
      "metadata": {
        "colab": {
          "base_uri": "https://localhost:8080/",
          "height": 363
        },
        "id": "KPvLUB-uIJcV",
        "outputId": "a0b017ba-36e7-41eb-86e9-b65a42f015f2"
      },
      "outputs": [
        {
          "output_type": "execute_result",
          "data": {
            "text/plain": [
              "        gender       age             topic         sign  \\\n",
              "34300    4male  10s blog           Student  sagittarius   \n",
              "77967    4male  30s blog  Unknown_industry       gemini   \n",
              "76684    4male  30s blog       Advertising  sagittarius   \n",
              "64460  5female  20s blog         Education        virgo   \n",
              "81647    4male  30s blog          Military      scorpio   \n",
              "54653  5female  20s blog  Unknown_industry    capricorn   \n",
              "2476     4male  10s blog           Student    capricorn   \n",
              "9606     4male  10s blog           Student    capricorn   \n",
              "43825  5female  20s blog              Arts  sagittarius   \n",
              "80230    4male  30s blog              Arts       taurus   \n",
              "\n",
              "                                                    text  \\\n",
              "34300         You all know who this guy is.  Politica...   \n",
              "77967                   ' ... and you may tell yourse...   \n",
              "76684      Why is there a light in the fridge and not...   \n",
              "64460                urlLink She's  on the kill list....   \n",
              "81647                                   My favorite e...   \n",
              "54653              urlLink american bandstand is comi...   \n",
              "2476                yo peepz....woke up at 6.45 todae...   \n",
              "9606          I watched some shows on various French ...   \n",
              "43825                   So, Moore's found a distribut...   \n",
              "80230               AROUND THE WORLD IN 80 DAYS (1956...   \n",
              "\n",
              "                                              clean_data  \n",
              "34300  [know, guy, polit, activist, former, rage, mac...  \n",
              "77967                          [may, tell, beauti, hous]  \n",
              "76684                                   [light, freezer]  \n",
              "64460  [kill, list, soon, day, look, name, god, sake,...  \n",
              "81647  [favorit, essay, ralph, self, relianc, charact...  \n",
              "54653  [bandstand, come, back, go, releas, smile, new...  \n",
              "2476   [woke, prepar, breakfast, bad, huh, went, socc...  \n",
              "9606   [watch, various, today, liter, never, first, d...  \n",
              "43825  [found, distributor, much, form, compani, rele...  \n",
              "80230  [around, world, day, direct, base, novel, tour...  "
            ],
            "text/html": [
              "\n",
              "  <div id=\"df-8c674b03-be43-4769-a715-be33b9a3beb8\">\n",
              "    <div class=\"colab-df-container\">\n",
              "      <div>\n",
              "<style scoped>\n",
              "    .dataframe tbody tr th:only-of-type {\n",
              "        vertical-align: middle;\n",
              "    }\n",
              "\n",
              "    .dataframe tbody tr th {\n",
              "        vertical-align: top;\n",
              "    }\n",
              "\n",
              "    .dataframe thead th {\n",
              "        text-align: right;\n",
              "    }\n",
              "</style>\n",
              "<table border=\"1\" class=\"dataframe\">\n",
              "  <thead>\n",
              "    <tr style=\"text-align: right;\">\n",
              "      <th></th>\n",
              "      <th>gender</th>\n",
              "      <th>age</th>\n",
              "      <th>topic</th>\n",
              "      <th>sign</th>\n",
              "      <th>text</th>\n",
              "      <th>clean_data</th>\n",
              "    </tr>\n",
              "  </thead>\n",
              "  <tbody>\n",
              "    <tr>\n",
              "      <th>34300</th>\n",
              "      <td>4male</td>\n",
              "      <td>10s blog</td>\n",
              "      <td>Student</td>\n",
              "      <td>sagittarius</td>\n",
              "      <td>You all know who this guy is.  Politica...</td>\n",
              "      <td>[know, guy, polit, activist, former, rage, mac...</td>\n",
              "    </tr>\n",
              "    <tr>\n",
              "      <th>77967</th>\n",
              "      <td>4male</td>\n",
              "      <td>30s blog</td>\n",
              "      <td>Unknown_industry</td>\n",
              "      <td>gemini</td>\n",
              "      <td>' ... and you may tell yourse...</td>\n",
              "      <td>[may, tell, beauti, hous]</td>\n",
              "    </tr>\n",
              "    <tr>\n",
              "      <th>76684</th>\n",
              "      <td>4male</td>\n",
              "      <td>30s blog</td>\n",
              "      <td>Advertising</td>\n",
              "      <td>sagittarius</td>\n",
              "      <td>Why is there a light in the fridge and not...</td>\n",
              "      <td>[light, freezer]</td>\n",
              "    </tr>\n",
              "    <tr>\n",
              "      <th>64460</th>\n",
              "      <td>5female</td>\n",
              "      <td>20s blog</td>\n",
              "      <td>Education</td>\n",
              "      <td>virgo</td>\n",
              "      <td>urlLink She's  on the kill list....</td>\n",
              "      <td>[kill, list, soon, day, look, name, god, sake,...</td>\n",
              "    </tr>\n",
              "    <tr>\n",
              "      <th>81647</th>\n",
              "      <td>4male</td>\n",
              "      <td>30s blog</td>\n",
              "      <td>Military</td>\n",
              "      <td>scorpio</td>\n",
              "      <td>My favorite e...</td>\n",
              "      <td>[favorit, essay, ralph, self, relianc, charact...</td>\n",
              "    </tr>\n",
              "    <tr>\n",
              "      <th>54653</th>\n",
              "      <td>5female</td>\n",
              "      <td>20s blog</td>\n",
              "      <td>Unknown_industry</td>\n",
              "      <td>capricorn</td>\n",
              "      <td>urlLink american bandstand is comi...</td>\n",
              "      <td>[bandstand, come, back, go, releas, smile, new...</td>\n",
              "    </tr>\n",
              "    <tr>\n",
              "      <th>2476</th>\n",
              "      <td>4male</td>\n",
              "      <td>10s blog</td>\n",
              "      <td>Student</td>\n",
              "      <td>capricorn</td>\n",
              "      <td>yo peepz....woke up at 6.45 todae...</td>\n",
              "      <td>[woke, prepar, breakfast, bad, huh, went, socc...</td>\n",
              "    </tr>\n",
              "    <tr>\n",
              "      <th>9606</th>\n",
              "      <td>4male</td>\n",
              "      <td>10s blog</td>\n",
              "      <td>Student</td>\n",
              "      <td>capricorn</td>\n",
              "      <td>I watched some shows on various French ...</td>\n",
              "      <td>[watch, various, today, liter, never, first, d...</td>\n",
              "    </tr>\n",
              "    <tr>\n",
              "      <th>43825</th>\n",
              "      <td>5female</td>\n",
              "      <td>20s blog</td>\n",
              "      <td>Arts</td>\n",
              "      <td>sagittarius</td>\n",
              "      <td>So, Moore's found a distribut...</td>\n",
              "      <td>[found, distributor, much, form, compani, rele...</td>\n",
              "    </tr>\n",
              "    <tr>\n",
              "      <th>80230</th>\n",
              "      <td>4male</td>\n",
              "      <td>30s blog</td>\n",
              "      <td>Arts</td>\n",
              "      <td>taurus</td>\n",
              "      <td>AROUND THE WORLD IN 80 DAYS (1956...</td>\n",
              "      <td>[around, world, day, direct, base, novel, tour...</td>\n",
              "    </tr>\n",
              "  </tbody>\n",
              "</table>\n",
              "</div>\n",
              "      <button class=\"colab-df-convert\" onclick=\"convertToInteractive('df-8c674b03-be43-4769-a715-be33b9a3beb8')\"\n",
              "              title=\"Convert this dataframe to an interactive table.\"\n",
              "              style=\"display:none;\">\n",
              "        \n",
              "  <svg xmlns=\"http://www.w3.org/2000/svg\" height=\"24px\"viewBox=\"0 0 24 24\"\n",
              "       width=\"24px\">\n",
              "    <path d=\"M0 0h24v24H0V0z\" fill=\"none\"/>\n",
              "    <path d=\"M18.56 5.44l.94 2.06.94-2.06 2.06-.94-2.06-.94-.94-2.06-.94 2.06-2.06.94zm-11 1L8.5 8.5l.94-2.06 2.06-.94-2.06-.94L8.5 2.5l-.94 2.06-2.06.94zm10 10l.94 2.06.94-2.06 2.06-.94-2.06-.94-.94-2.06-.94 2.06-2.06.94z\"/><path d=\"M17.41 7.96l-1.37-1.37c-.4-.4-.92-.59-1.43-.59-.52 0-1.04.2-1.43.59L10.3 9.45l-7.72 7.72c-.78.78-.78 2.05 0 2.83L4 21.41c.39.39.9.59 1.41.59.51 0 1.02-.2 1.41-.59l7.78-7.78 2.81-2.81c.8-.78.8-2.07 0-2.86zM5.41 20L4 18.59l7.72-7.72 1.47 1.35L5.41 20z\"/>\n",
              "  </svg>\n",
              "      </button>\n",
              "      \n",
              "  <style>\n",
              "    .colab-df-container {\n",
              "      display:flex;\n",
              "      flex-wrap:wrap;\n",
              "      gap: 12px;\n",
              "    }\n",
              "\n",
              "    .colab-df-convert {\n",
              "      background-color: #E8F0FE;\n",
              "      border: none;\n",
              "      border-radius: 50%;\n",
              "      cursor: pointer;\n",
              "      display: none;\n",
              "      fill: #1967D2;\n",
              "      height: 32px;\n",
              "      padding: 0 0 0 0;\n",
              "      width: 32px;\n",
              "    }\n",
              "\n",
              "    .colab-df-convert:hover {\n",
              "      background-color: #E2EBFA;\n",
              "      box-shadow: 0px 1px 2px rgba(60, 64, 67, 0.3), 0px 1px 3px 1px rgba(60, 64, 67, 0.15);\n",
              "      fill: #174EA6;\n",
              "    }\n",
              "\n",
              "    [theme=dark] .colab-df-convert {\n",
              "      background-color: #3B4455;\n",
              "      fill: #D2E3FC;\n",
              "    }\n",
              "\n",
              "    [theme=dark] .colab-df-convert:hover {\n",
              "      background-color: #434B5C;\n",
              "      box-shadow: 0px 1px 3px 1px rgba(0, 0, 0, 0.15);\n",
              "      filter: drop-shadow(0px 1px 2px rgba(0, 0, 0, 0.3));\n",
              "      fill: #FFFFFF;\n",
              "    }\n",
              "  </style>\n",
              "\n",
              "      <script>\n",
              "        const buttonEl =\n",
              "          document.querySelector('#df-8c674b03-be43-4769-a715-be33b9a3beb8 button.colab-df-convert');\n",
              "        buttonEl.style.display =\n",
              "          google.colab.kernel.accessAllowed ? 'block' : 'none';\n",
              "\n",
              "        async function convertToInteractive(key) {\n",
              "          const element = document.querySelector('#df-8c674b03-be43-4769-a715-be33b9a3beb8');\n",
              "          const dataTable =\n",
              "            await google.colab.kernel.invokeFunction('convertToInteractive',\n",
              "                                                     [key], {});\n",
              "          if (!dataTable) return;\n",
              "\n",
              "          const docLinkHtml = 'Like what you see? Visit the ' +\n",
              "            '<a target=\"_blank\" href=https://colab.research.google.com/notebooks/data_table.ipynb>data table notebook</a>'\n",
              "            + ' to learn more about interactive tables.';\n",
              "          element.innerHTML = '';\n",
              "          dataTable['output_type'] = 'display_data';\n",
              "          await google.colab.output.renderOutput(dataTable, element);\n",
              "          const docLink = document.createElement('div');\n",
              "          docLink.innerHTML = docLinkHtml;\n",
              "          element.appendChild(docLink);\n",
              "        }\n",
              "      </script>\n",
              "    </div>\n",
              "  </div>\n",
              "  "
            ]
          },
          "metadata": {},
          "execution_count": 40
        }
      ],
      "source": [
        "part1_data_sample.sample(10)"
      ]
    },
    {
      "cell_type": "markdown",
      "metadata": {
        "id": "OKsyU6P1YDT3"
      },
      "source": [
        "**Target/label merger and transformation:**"
      ]
    },
    {
      "cell_type": "code",
      "execution_count": 41,
      "metadata": {
        "id": "CxReSspBQCdi"
      },
      "outputs": [],
      "source": [
        "#As we want to make this into a multi-label classification problem, I have merged the columns 'age', 'gender', 'topic' and 'sign' \n",
        "#together so that we have all the labels together for a particular sentence.\n",
        "part1_data_sample['labels']=part1_data_sample.apply(lambda col: [col['gender'],str(col['age']),col['topic'],col['sign']], axis=1)\n"
      ]
    },
    {
      "cell_type": "code",
      "execution_count": 42,
      "metadata": {
        "id": "OR_1Sb_jQCfi"
      },
      "outputs": [],
      "source": [
        "# drop  gender,age,topic & sign as they are already merged to labels column\n",
        "\n",
        "part1_data_sample.drop(columns=['gender','age','topic','sign'], axis=1, inplace=True)"
      ]
    },
    {
      "cell_type": "code",
      "execution_count": 43,
      "metadata": {
        "colab": {
          "base_uri": "https://localhost:8080/",
          "height": 206
        },
        "id": "dPkdVzt7QCiE",
        "outputId": "52d7dc73-129d-4575-fd23-8f909f1c224b"
      },
      "outputs": [
        {
          "output_type": "execute_result",
          "data": {
            "text/plain": [
              "                                                text  \\\n",
              "0         For those of you on Friendster, and mos...   \n",
              "1          Wearing: Tool band tee, dickies, socks...   \n",
              "2         since afternoon i've been doin nuthin o...   \n",
              "3             Today:    * Two point five weeks of...   \n",
              "4                    day 3: flag day   helloz aga...   \n",
              "\n",
              "                                          clean_data  \\\n",
              "0  [see, whenev, complet, ask, love, ever, alway,...   \n",
              "1  [wear, tool, band, tee, listen, jenni, wrap, p...   \n",
              "2  [sinc, afternoon, yeah, see, watch, kill, bill...   \n",
              "3  [today, two, point, five, math, done, six, boo...   \n",
              "4  [day, flag, yest, whole, class, togeth, talk, ...   \n",
              "\n",
              "                                             labels  \n",
              "0  [4male, 10s blog, Unknown_industry, sagittarius]  \n",
              "1  [5female, 10s blog, Unknown_industry, capricorn]  \n",
              "2                 [4male, 10s blog, Student, libra]  \n",
              "3           [4male, 10s blog, Student, sagittarius]  \n",
              "4     [5female, 10s blog, Unknown_industry, pisces]  "
            ],
            "text/html": [
              "\n",
              "  <div id=\"df-6a55a8ac-6d19-4863-8f62-6ae8ce0f6086\">\n",
              "    <div class=\"colab-df-container\">\n",
              "      <div>\n",
              "<style scoped>\n",
              "    .dataframe tbody tr th:only-of-type {\n",
              "        vertical-align: middle;\n",
              "    }\n",
              "\n",
              "    .dataframe tbody tr th {\n",
              "        vertical-align: top;\n",
              "    }\n",
              "\n",
              "    .dataframe thead th {\n",
              "        text-align: right;\n",
              "    }\n",
              "</style>\n",
              "<table border=\"1\" class=\"dataframe\">\n",
              "  <thead>\n",
              "    <tr style=\"text-align: right;\">\n",
              "      <th></th>\n",
              "      <th>text</th>\n",
              "      <th>clean_data</th>\n",
              "      <th>labels</th>\n",
              "    </tr>\n",
              "  </thead>\n",
              "  <tbody>\n",
              "    <tr>\n",
              "      <th>0</th>\n",
              "      <td>For those of you on Friendster, and mos...</td>\n",
              "      <td>[see, whenev, complet, ask, love, ever, alway,...</td>\n",
              "      <td>[4male, 10s blog, Unknown_industry, sagittarius]</td>\n",
              "    </tr>\n",
              "    <tr>\n",
              "      <th>1</th>\n",
              "      <td>Wearing: Tool band tee, dickies, socks...</td>\n",
              "      <td>[wear, tool, band, tee, listen, jenni, wrap, p...</td>\n",
              "      <td>[5female, 10s blog, Unknown_industry, capricorn]</td>\n",
              "    </tr>\n",
              "    <tr>\n",
              "      <th>2</th>\n",
              "      <td>since afternoon i've been doin nuthin o...</td>\n",
              "      <td>[sinc, afternoon, yeah, see, watch, kill, bill...</td>\n",
              "      <td>[4male, 10s blog, Student, libra]</td>\n",
              "    </tr>\n",
              "    <tr>\n",
              "      <th>3</th>\n",
              "      <td>Today:    * Two point five weeks of...</td>\n",
              "      <td>[today, two, point, five, math, done, six, boo...</td>\n",
              "      <td>[4male, 10s blog, Student, sagittarius]</td>\n",
              "    </tr>\n",
              "    <tr>\n",
              "      <th>4</th>\n",
              "      <td>day 3: flag day   helloz aga...</td>\n",
              "      <td>[day, flag, yest, whole, class, togeth, talk, ...</td>\n",
              "      <td>[5female, 10s blog, Unknown_industry, pisces]</td>\n",
              "    </tr>\n",
              "  </tbody>\n",
              "</table>\n",
              "</div>\n",
              "      <button class=\"colab-df-convert\" onclick=\"convertToInteractive('df-6a55a8ac-6d19-4863-8f62-6ae8ce0f6086')\"\n",
              "              title=\"Convert this dataframe to an interactive table.\"\n",
              "              style=\"display:none;\">\n",
              "        \n",
              "  <svg xmlns=\"http://www.w3.org/2000/svg\" height=\"24px\"viewBox=\"0 0 24 24\"\n",
              "       width=\"24px\">\n",
              "    <path d=\"M0 0h24v24H0V0z\" fill=\"none\"/>\n",
              "    <path d=\"M18.56 5.44l.94 2.06.94-2.06 2.06-.94-2.06-.94-.94-2.06-.94 2.06-2.06.94zm-11 1L8.5 8.5l.94-2.06 2.06-.94-2.06-.94L8.5 2.5l-.94 2.06-2.06.94zm10 10l.94 2.06.94-2.06 2.06-.94-2.06-.94-.94-2.06-.94 2.06-2.06.94z\"/><path d=\"M17.41 7.96l-1.37-1.37c-.4-.4-.92-.59-1.43-.59-.52 0-1.04.2-1.43.59L10.3 9.45l-7.72 7.72c-.78.78-.78 2.05 0 2.83L4 21.41c.39.39.9.59 1.41.59.51 0 1.02-.2 1.41-.59l7.78-7.78 2.81-2.81c.8-.78.8-2.07 0-2.86zM5.41 20L4 18.59l7.72-7.72 1.47 1.35L5.41 20z\"/>\n",
              "  </svg>\n",
              "      </button>\n",
              "      \n",
              "  <style>\n",
              "    .colab-df-container {\n",
              "      display:flex;\n",
              "      flex-wrap:wrap;\n",
              "      gap: 12px;\n",
              "    }\n",
              "\n",
              "    .colab-df-convert {\n",
              "      background-color: #E8F0FE;\n",
              "      border: none;\n",
              "      border-radius: 50%;\n",
              "      cursor: pointer;\n",
              "      display: none;\n",
              "      fill: #1967D2;\n",
              "      height: 32px;\n",
              "      padding: 0 0 0 0;\n",
              "      width: 32px;\n",
              "    }\n",
              "\n",
              "    .colab-df-convert:hover {\n",
              "      background-color: #E2EBFA;\n",
              "      box-shadow: 0px 1px 2px rgba(60, 64, 67, 0.3), 0px 1px 3px 1px rgba(60, 64, 67, 0.15);\n",
              "      fill: #174EA6;\n",
              "    }\n",
              "\n",
              "    [theme=dark] .colab-df-convert {\n",
              "      background-color: #3B4455;\n",
              "      fill: #D2E3FC;\n",
              "    }\n",
              "\n",
              "    [theme=dark] .colab-df-convert:hover {\n",
              "      background-color: #434B5C;\n",
              "      box-shadow: 0px 1px 3px 1px rgba(0, 0, 0, 0.15);\n",
              "      filter: drop-shadow(0px 1px 2px rgba(0, 0, 0, 0.3));\n",
              "      fill: #FFFFFF;\n",
              "    }\n",
              "  </style>\n",
              "\n",
              "      <script>\n",
              "        const buttonEl =\n",
              "          document.querySelector('#df-6a55a8ac-6d19-4863-8f62-6ae8ce0f6086 button.colab-df-convert');\n",
              "        buttonEl.style.display =\n",
              "          google.colab.kernel.accessAllowed ? 'block' : 'none';\n",
              "\n",
              "        async function convertToInteractive(key) {\n",
              "          const element = document.querySelector('#df-6a55a8ac-6d19-4863-8f62-6ae8ce0f6086');\n",
              "          const dataTable =\n",
              "            await google.colab.kernel.invokeFunction('convertToInteractive',\n",
              "                                                     [key], {});\n",
              "          if (!dataTable) return;\n",
              "\n",
              "          const docLinkHtml = 'Like what you see? Visit the ' +\n",
              "            '<a target=\"_blank\" href=https://colab.research.google.com/notebooks/data_table.ipynb>data table notebook</a>'\n",
              "            + ' to learn more about interactive tables.';\n",
              "          element.innerHTML = '';\n",
              "          dataTable['output_type'] = 'display_data';\n",
              "          await google.colab.output.renderOutput(dataTable, element);\n",
              "          const docLink = document.createElement('div');\n",
              "          docLink.innerHTML = docLinkHtml;\n",
              "          element.appendChild(docLink);\n",
              "        }\n",
              "      </script>\n",
              "    </div>\n",
              "  </div>\n",
              "  "
            ]
          },
          "metadata": {},
          "execution_count": 43
        }
      ],
      "source": [
        "part1_data_sample.head()"
      ]
    },
    {
      "cell_type": "code",
      "execution_count": 44,
      "metadata": {
        "id": "QC67-G2RQCka"
      },
      "outputs": [],
      "source": [
        "# dividing the dataset into X and y and binarizing y label\n",
        "\n",
        "X_small = part1_data_sample['clean_data']\n",
        "y_small = part1_data_sample['labels']\n",
        "\n",
        "multilabel_binarizer = MultiLabelBinarizer()\n",
        "y_mlb=multilabel_binarizer.fit_transform(y_small)"
      ]
    },
    {
      "cell_type": "code",
      "execution_count": 45,
      "metadata": {
        "colab": {
          "base_uri": "https://localhost:8080/"
        },
        "id": "2hmcsP2XQCm6",
        "outputId": "957aa137-a611-429c-cd2e-2c1bb733de5a"
      },
      "outputs": [
        {
          "output_type": "stream",
          "name": "stdout",
          "text": [
            "['10s blog' '20s blog' '30s blog' '4male' '5female' 'Accounting'\n",
            " 'Advertising' 'Agriculture' 'Architecture' 'Arts' 'Automotive' 'Banking'\n",
            " 'Biotech' 'BusinessServices' 'Chemicals' 'Communications-Media'\n",
            " 'Construction' 'Consulting' 'Education' 'Engineering' 'Environment'\n",
            " 'Fashion' 'Government' 'HumanResources' 'Internet' 'InvestmentBanking'\n",
            " 'Law' 'LawEnforcement-Security' 'Manufacturing' 'Maritime' 'Marketing'\n",
            " 'Military' 'Museums-Libraries' 'Non-Profit' 'Publishing' 'RealEstate'\n",
            " 'Religion' 'Science' 'Sports-Recreation' 'Student' 'Technology'\n",
            " 'Telecommunications' 'Tourism' 'Transportation' 'Unknown_industry'\n",
            " 'aquarius' 'aries' 'cancer' 'capricorn' 'gemini' 'leo' 'libra' 'pisces'\n",
            " 'sagittarius' 'scorpio' 'taurus' 'virgo']\n"
          ]
        }
      ],
      "source": [
        "classes_y= multilabel_binarizer.classes_\n",
        "print(classes_y)  "
      ]
    },
    {
      "cell_type": "code",
      "execution_count": 46,
      "metadata": {
        "colab": {
          "base_uri": "https://localhost:8080/"
        },
        "id": "OeRm_PzTISLM",
        "outputId": "d8d0691f-165b-4c7c-ec0c-a27c62ed8bc9"
      },
      "outputs": [
        {
          "output_type": "execute_result",
          "data": {
            "text/plain": [
              "105000"
            ]
          },
          "metadata": {},
          "execution_count": 46
        }
      ],
      "source": [
        "len(X_small)"
      ]
    },
    {
      "cell_type": "markdown",
      "metadata": {
        "id": "uDWYs5OZ_lLa"
      },
      "source": [
        "It can be seen that the classes are arranged beautifully, with the first three denoting age, next two denoting gender, next the topic and finally the signs. This sequence will be useful when converting output from neural network (probabilities) into a vector with 0s and 1s for further comparison. (Done later)."
      ]
    },
    {
      "cell_type": "code",
      "execution_count": 47,
      "metadata": {
        "colab": {
          "base_uri": "https://localhost:8080/"
        },
        "id": "VO4Bjm7FQCps",
        "outputId": "a78c8e62-b32c-4f1f-b338-bcf4641fd4a1"
      },
      "outputs": [
        {
          "output_type": "stream",
          "name": "stdout",
          "text": [
            "Looking in indexes: https://pypi.org/simple, https://us-python.pkg.dev/colab-wheels/public/simple/\n",
            "Requirement already satisfied: iterative-stratification in /usr/local/lib/python3.7/dist-packages (0.1.7)\n",
            "Requirement already satisfied: numpy in /usr/local/lib/python3.7/dist-packages (from iterative-stratification) (1.21.6)\n",
            "Requirement already satisfied: scipy in /usr/local/lib/python3.7/dist-packages (from iterative-stratification) (1.7.3)\n",
            "Requirement already satisfied: scikit-learn in /usr/local/lib/python3.7/dist-packages (from iterative-stratification) (1.0.2)\n",
            "Requirement already satisfied: threadpoolctl>=2.0.0 in /usr/local/lib/python3.7/dist-packages (from scikit-learn->iterative-stratification) (3.1.0)\n",
            "Requirement already satisfied: joblib>=0.11 in /usr/local/lib/python3.7/dist-packages (from scikit-learn->iterative-stratification) (1.2.0)\n"
          ]
        }
      ],
      "source": [
        "# using iterative stratification for splitting in multilabel\n",
        "# defining a function multilabel_train_test_split\n",
        "\n",
        "!pip install iterative-stratification\n",
        "from iterstrat.ml_stratifiers import MultilabelStratifiedShuffleSplit\n",
        "from sklearn.utils import indexable, _safe_indexing\n",
        "from sklearn.utils.validation import _num_samples\n",
        "from sklearn.model_selection._split import _validate_shuffle_split\n",
        "from itertools import chain\n",
        "\n",
        "def multilabel_train_test_split(*arrays,\n",
        "                                test_size=None,\n",
        "                                train_size=None,\n",
        "                                random_state=None,\n",
        "                                shuffle=True,\n",
        "                                stratify=None):\n",
        "\n",
        "    # Train test split for multilabel classification. Uses the algorithm from: \n",
        "    # 'Sechidis K., Tsoumakas G., Vlahavas I. (2011) On the Stratification of Multi-Label Data'.\n",
        "\n",
        "    if stratify is None:\n",
        "        return train_test_split(*arrays, test_size=test_size,train_size=train_size,\n",
        "                                random_state=random_state, stratify=None, shuffle=shuffle)\n",
        "    \n",
        "    assert shuffle, \"Stratified train/test split is not implemented for shuffle=False\"\n",
        "    \n",
        "    n_arrays = len(arrays)\n",
        "    arrays = indexable(*arrays)\n",
        "    n_samples = _num_samples(arrays[0])\n",
        "    n_train, n_test = _validate_shuffle_split(\n",
        "        n_samples, test_size, train_size, default_test_size=0.25\n",
        "    )\n",
        "    cv = MultilabelStratifiedShuffleSplit(test_size=n_test, train_size=n_train, random_state=123)\n",
        "    train, test = next(cv.split(X=arrays[0], y=stratify))\n",
        "\n",
        "    return list(\n",
        "        chain.from_iterable(\n",
        "            (_safe_indexing(a, train), _safe_indexing(a, test)) for a in arrays\n",
        "        )\n",
        "    )"
      ]
    },
    {
      "cell_type": "code",
      "execution_count": 48,
      "metadata": {
        "id": "fBT02ujR_g4K"
      },
      "outputs": [],
      "source": [
        "# stratified train test split\n",
        "\n",
        "X_train_final, X_test_final, y_train_final, y_test_final = multilabel_train_test_split(X_small, y_mlb, stratify=y_mlb, test_size=0.20)"
      ]
    },
    {
      "cell_type": "code",
      "execution_count": 49,
      "metadata": {
        "colab": {
          "base_uri": "https://localhost:8080/"
        },
        "id": "LBE3x8uO_g6q",
        "outputId": "f726e7a0-b62b-4f9a-d139-1530dd989c81"
      },
      "outputs": [
        {
          "output_type": "stream",
          "name": "stdout",
          "text": [
            "The shape of the train data is (83999,) \n",
            "\n",
            "The shape of the test data is (21001,)\n"
          ]
        }
      ],
      "source": [
        "print('The shape of the train data is',X_train_final.shape,'\\n')\n",
        "print('The shape of the test data is',X_test_final.shape)"
      ]
    },
    {
      "cell_type": "code",
      "execution_count": 50,
      "metadata": {
        "colab": {
          "base_uri": "https://localhost:8080/"
        },
        "id": "P-GLoxbPTuL7",
        "outputId": "aed207dc-1a28-407e-dd30-284aa3bb84d9"
      },
      "outputs": [
        {
          "output_type": "stream",
          "name": "stdout",
          "text": [
            "The shape of the train data is (83999, 57) \n",
            "\n",
            "The shape of the test data is (21001, 57)\n"
          ]
        }
      ],
      "source": [
        "print('The shape of the train data is',y_train_final.shape,'\\n')\n",
        "print('The shape of the test data is',y_test_final.shape)"
      ]
    },
    {
      "cell_type": "markdown",
      "metadata": {
        "id": "JW-BQbFrAGw8"
      },
      "source": [
        "**Vectorisation, etc.**"
      ]
    },
    {
      "cell_type": "code",
      "execution_count": 51,
      "metadata": {
        "id": "jtUzFOVg_g9i"
      },
      "outputs": [],
      "source": [
        "#X_train_final_tokens = X_train_final.apply(nltk.word_tokenize)\n",
        "X_train_tokens_list = X_train_final.tolist()"
      ]
    },
    {
      "cell_type": "code",
      "execution_count": 52,
      "metadata": {
        "id": "ZcBvwDBNQDSm"
      },
      "outputs": [],
      "source": [
        "# X_test_final_tokens = X_test_final.apply(nltk.word_tokenize)\n",
        "X_test_tokens_list = X_test_final.tolist()"
      ]
    },
    {
      "cell_type": "code",
      "execution_count": 53,
      "metadata": {
        "id": "aN0YcCSMggUj"
      },
      "outputs": [],
      "source": [
        "#!wget http://nlp.stanford.edu/data/glove.6B.zip\n",
        "#!unzip glove.6B.zip\n",
        "\n",
        "with open(\"glove.6B.300d.txt\", \"rb\") as lines:\n",
        "   w2v = {line.split()[0]: np.array(map(float, line.split()[1:]))\n",
        "         for line in lines}\n"
      ]
    },
    {
      "cell_type": "code",
      "execution_count": 54,
      "metadata": {
        "id": "Wo1QkQ1-ggW7"
      },
      "outputs": [],
      "source": [
        "import gensim\n",
        "# let X be a list of tokenized texts (i.e. list of lists of tokens)\n",
        "model_w2v = gensim.models.Word2Vec(X_train_tokens_list, size=10000)\n",
        "w2v = dict(zip(model_w2v.wv.index2word, model_w2v.wv.syn0))"
      ]
    },
    {
      "cell_type": "code",
      "execution_count": 55,
      "metadata": {
        "id": "LSAfzPjuggZf"
      },
      "outputs": [],
      "source": [
        "class MeanEmbeddingVectorizer(object):\n",
        "   def __init__(self, word2vec):\n",
        "       self.word2vec = word2vec\n",
        "       # if a text is empty we should return a vector of zeros\n",
        "       # with the same dimensionality as all the other vectors\n",
        "       # self.dim = len(word2vec.itervalues().next())\n",
        "       self.dim = 10000\n",
        "\n",
        "   def fit(self, X, y):\n",
        "       return self\n",
        "\n",
        "   def transform(self, X):\n",
        "       return np.array([\n",
        "           np.mean([self.word2vec[w] for w in words if w in self.word2vec]\n",
        "                   or [np.zeros(self.dim)], axis=0)\n",
        "           for words in X\n",
        "       ])"
      ]
    },
    {
      "cell_type": "code",
      "execution_count": null,
      "metadata": {
        "id": "AbUkFdwlggcO"
      },
      "outputs": [],
      "source": [
        "me_vector = MeanEmbeddingVectorizer(w2v)\n",
        "X_train_transformed = me_vector.transform(X_train_tokens_list)\n",
        "X_test_transformed = me_vector.transform(X_test_tokens_list)\n"
      ]
    },
    {
      "cell_type": "code",
      "execution_count": null,
      "metadata": {
        "id": "doLZTLlC6II6"
      },
      "outputs": [],
      "source": [
        "from sklearn.multiclass import OneVsRestClassifier\n",
        "from sklearn.linear_model import LogisticRegression\n",
        "from sklearn.discriminant_analysis import LinearDiscriminantAnalysis\n",
        "from sklearn.svm import LinearSVC\n",
        "from sklearn.naive_bayes import MultinomialNB"
      ]
    },
    {
      "cell_type": "code",
      "execution_count": null,
      "metadata": {
        "colab": {
          "background_save": true
        },
        "id": "MJa_4I4uggiq"
      },
      "outputs": [],
      "source": [
        "model_lr=LogisticRegression(C=1.0, penalty='l2', dual=False, solver='lbfgs')\n",
        "model_lr=OneVsRestClassifier(model_lr)\n",
        "model_lr.fit(X_train_transformed,y_train_final)"
      ]
    },
    {
      "cell_type": "code",
      "execution_count": null,
      "metadata": {
        "id": "wB2fjJBj77hp"
      },
      "outputs": [],
      "source": [
        "model_svm=LinearSVC(C=1.0, penalty='l1', dual=False, loss='squared_hinge')\n",
        "model_svm=OneVsRestClassifier(model_svm)\n",
        "model_svm.fit(X_train_transformed,y_train_final)"
      ]
    },
    {
      "cell_type": "code",
      "source": [],
      "metadata": {
        "id": "EKeQcgu7_PUS"
      },
      "execution_count": null,
      "outputs": []
    },
    {
      "cell_type": "code",
      "execution_count": null,
      "metadata": {
        "id": "Ep0YFMtj77ka"
      },
      "outputs": [],
      "source": [
        "model_nb=MultinomialNB(alpha=1.0)\n",
        "model_nb=OneVsRestClassifier(model_svm)\n",
        "model_nb.fit(X_train_transformed,y_train_final)"
      ]
    },
    {
      "cell_type": "code",
      "execution_count": null,
      "metadata": {
        "id": "cBn2wIk7gglf"
      },
      "outputs": [],
      "source": [
        "Ypred=model_svm.predict(X_test_transformed)"
      ]
    },
    {
      "cell_type": "code",
      "execution_count": null,
      "metadata": {
        "id": "SzwtT9_Vk-zB"
      },
      "outputs": [],
      "source": [
        "Ypred"
      ]
    },
    {
      "cell_type": "markdown",
      "metadata": {
        "id": "zsMERrBXxS-L"
      },
      "source": [
        "Using micro and macro average method"
      ]
    },
    {
      "cell_type": "code",
      "execution_count": null,
      "metadata": {
        "id": "19ztwByGk-1V"
      },
      "outputs": [],
      "source": [
        "from sklearn.metrics import accuracy_score\n",
        "from sklearn.metrics import f1_score\n",
        "from sklearn.metrics import average_precision_score\n",
        "from sklearn.metrics import recall_score\n",
        "\n",
        "def display_metrics_micro(Ytest, Ypred):\n",
        "    print('Accuracy score: ', accuracy_score(Ytest, Ypred))\n",
        "    print('F1 score: Micro', f1_score(Ytest, Ypred, average='micro'))\n",
        "    print('Average precision score: Micro', average_precision_score(Ytest, Ypred, average='micro'))\n",
        "    print('Average recall score: Micro', recall_score(Ytest, Ypred, average='micro'))\n",
        "    \n",
        "\n",
        "def display_metrics_macro(Ytest, Ypred):\n",
        "    print('Accuracy score: ', accuracy_score(Ytest, Ypred))\n",
        "    print('F1 score: Macro', f1_score(Ytest, Ypred, average='macro'))\n",
        "    print('Average recall score: MAcro', recall_score(Ytest, Ypred, average='macro'))\n",
        "\n",
        "def display_metrics_weighted(Ytest, Ypred):\n",
        "    print('Accuracy score: ', accuracy_score(Ytest, Ypred))\n",
        "    print('F1 score: weighted', f1_score(Ytest, Ypred, average='weighted'))\n",
        "    print('Average precision score: weighted', average_precision_score(Ytest, Ypred, average='weighted'))\n",
        "    print('Average recall score: weighted', recall_score(Ytest, Ypred, average='weighted')) \n",
        "\n"
      ]
    },
    {
      "cell_type": "code",
      "execution_count": null,
      "metadata": {
        "id": "ygVZFt8Lk-4A"
      },
      "outputs": [],
      "source": [
        "display_metrics_micro(y_test_final,Ypred)"
      ]
    },
    {
      "cell_type": "code",
      "execution_count": null,
      "metadata": {
        "id": "SxCvUbvGk-6j"
      },
      "outputs": [],
      "source": [
        "display_metrics_macro(y_test_final,Ypred)"
      ]
    },
    {
      "cell_type": "code",
      "execution_count": null,
      "metadata": {
        "id": "QKJjvM-dk-9L"
      },
      "outputs": [],
      "source": [
        "display_metrics_weighted(y_test_final,Ypred)"
      ]
    },
    {
      "cell_type": "code",
      "execution_count": null,
      "metadata": {
        "id": "v-tSCeFEk-_w"
      },
      "outputs": [],
      "source": [
        "preds = Ypred[:15]\n",
        "actuals = y_test_final[:15]"
      ]
    },
    {
      "cell_type": "code",
      "execution_count": null,
      "metadata": {
        "id": "Uk_2wkKDk_Cd"
      },
      "outputs": [],
      "source": [
        "five_actual = multilabel_binarizer.inverse_transform(actuals)\n",
        "five_actual"
      ]
    },
    {
      "cell_type": "code",
      "execution_count": null,
      "metadata": {
        "id": "ECjCTw3Fk_E4"
      },
      "outputs": [],
      "source": [
        "five_pred = multilabel_binarizer.inverse_transform(preds)\n",
        "five_pred"
      ]
    },
    {
      "cell_type": "markdown",
      "metadata": {
        "id": "WWFImNKL1ei6"
      },
      "source": [
        "**Print true label and predicted label for any five examples**"
      ]
    },
    {
      "cell_type": "code",
      "execution_count": null,
      "metadata": {
        "id": "ogmGMXQnk_Hd"
      },
      "outputs": [],
      "source": [
        "print(multilabel_binarizer.inverse_transform(Ypred)[877])\n",
        "print(multilabel_binarizer.inverse_transform(y_test_final)[877])"
      ]
    },
    {
      "cell_type": "code",
      "execution_count": null,
      "metadata": {
        "id": "_P0TODXYk_KA"
      },
      "outputs": [],
      "source": [
        "print(multilabel_binarizer.inverse_transform(Ypred)[514])\n",
        "print(multilabel_binarizer.inverse_transform(y_test_final)[514])\n"
      ]
    },
    {
      "cell_type": "code",
      "execution_count": null,
      "metadata": {
        "id": "tk5IwhMi2JQ9"
      },
      "outputs": [],
      "source": [
        "print(multilabel_binarizer.inverse_transform(Ypred)[99])\n",
        "print(multilabel_binarizer.inverse_transform(y_test_final)[99])"
      ]
    },
    {
      "cell_type": "code",
      "execution_count": null,
      "metadata": {
        "id": "qAd-6WRR2Sqr"
      },
      "outputs": [],
      "source": [
        "print(multilabel_binarizer.inverse_transform(Ypred)[499])\n",
        "print(multilabel_binarizer.inverse_transform(y_test_final)[499])"
      ]
    },
    {
      "cell_type": "markdown",
      "metadata": {
        "id": "vEvLLtYE2kUe"
      },
      "source": [
        "**Print truth table and predicted label for any five example**"
      ]
    },
    {
      "cell_type": "code",
      "execution_count": null,
      "metadata": {
        "id": "gy9ACq2c2caG"
      },
      "outputs": [],
      "source": [
        "import random\n",
        "j=[]\n",
        "for i in range(5):\n",
        "    j.append(random.randint(300,len(Ypred)))\n",
        "   \n",
        "print(j)\n",
        "\n",
        "for k in j:    \n",
        "    print(multilabel_binarizer.inverse_transform(Ypred)[k])\n",
        "    print(multilabel_binarizer.inverse_transform(y_test_final)[k])\n",
        "    \n",
        "        "
      ]
    },
    {
      "cell_type": "code",
      "execution_count": null,
      "metadata": {
        "id": "t2sKYftq22Dr"
      },
      "outputs": [],
      "source": [
        "Ypred_inversed = multilabel_binarizer.inverse_transform(Ypred)\n",
        "y_test_inversed = multilabel_binarizer.inverse_transform(y_test_final)\n",
        "for i in range(5):\n",
        "    print('Text:\\t{}\\nTrue labels:\\t{}\\nPredicted labels:\\t{}\\n\\n'.format(\n",
        "        X_test_transformed[i],\n",
        "        ','.join(y_test_inversed[i]),\n",
        "        ','.join(Ypred_inversed[i])\n",
        "    ))"
      ]
    },
    {
      "cell_type": "markdown",
      "metadata": {
        "id": "oStzFKoL3cu3"
      },
      "source": [
        "**Use a linear classifier (LinearSVC is used in the following) of your choice, wrap it up in OneVsRestClassifier to train it on every label**"
      ]
    },
    {
      "cell_type": "code",
      "execution_count": null,
      "metadata": {
        "id": "BWJShwch3fqj"
      },
      "outputs": [],
      "source": [
        "from sklearn.linear_model import LogisticRegression\n",
        "from sklearn.discriminant_analysis import LinearDiscriminantAnalysis\n",
        "from sklearn.svm import LinearSVC\n",
        "from sklearn.naive_bayes import MultinomialNB\n",
        "\n",
        "def build_model_train(X_train, y_train, X_valid=None, y_valid=None, C=1.0, model='lr'):\n",
        "    if model=='lr':\n",
        "        model = LogisticRegression(C=C, penalty='l1', dual=False, solver='liblinear')\n",
        "        model = OneVsRestClassifier(model)\n",
        "        model.fit(X_train, y_train)\n",
        "    \n",
        "    elif model=='svm':\n",
        "        model = LinearSVC(C=C, penalty='l1', dual=False, loss='squared_hinge')\n",
        "        model = OneVsRestClassifier(model)\n",
        "        model.fit(X_train, y_train)\n",
        "\n",
        "    elif model=='nbayes':\n",
        "        model = MultinomialNB(alpha=1.0)\n",
        "        model = OneVsRestClassifier(model)\n",
        "        model.fit(X_train, y_train)\n",
        "        \n",
        "    elif model=='lda':\n",
        "        model = LinearDiscriminantAnalysis(solver='svd')\n",
        "        model = OneVsRestClassifier(model)\n",
        "        model.fit(X_train, y_train)\n",
        "\n",
        "    return model    "
      ]
    },
    {
      "cell_type": "code",
      "execution_count": null,
      "metadata": {
        "id": "fUSsVEOC3nvj"
      },
      "outputs": [],
      "source": [
        "models = ['lr','svm','nbayes']\n",
        "for model in models:\n",
        "    model = build_model_train(X_train_transformed,y_train_final,model=model)\n",
        "    model.fit(X_train_transformed,y_train_final)\n",
        "    Ypred=model.predict(X_train_transformed)\n",
        "    print(\"\\n\")\n",
        "    print(f\"**displaying  metrics for the mode {model}\\n\")\n",
        "    display_metrics_micro(y_test_final,Ypred)\n",
        "    print(\"\\n\")\n",
        "    print(\"\\n\")\n",
        "    display_metrics_macro(y_test_final,Ypred)\n",
        "    print(\"\\n\")\n",
        "    print(\"\\n\")\n",
        "    display_metrics_weighted(y_test_final,Ypred)\n",
        "    print(\"\\n\")\n",
        "    print(\"\\n\")"
      ]
    },
    {
      "cell_type": "code",
      "execution_count": null,
      "metadata": {
        "id": "acTDhTuO3rEN"
      },
      "outputs": [],
      "source": []
    }
  ],
  "metadata": {
    "accelerator": "TPU",
    "colab": {
      "collapsed_sections": [],
      "machine_shape": "hm",
      "provenance": []
    },
    "gpuClass": "premium",
    "kernelspec": {
      "display_name": "Python 3",
      "name": "python3"
    },
    "language_info": {
      "name": "python"
    }
  },
  "nbformat": 4,
  "nbformat_minor": 0
}